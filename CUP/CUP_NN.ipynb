{
 "cells": [
  {
   "cell_type": "markdown",
   "id": "710cde11",
   "metadata": {},
   "source": [
    "# Data set preprocessing"
   ]
  },
  {
   "cell_type": "code",
   "execution_count": null,
   "id": "ac6fdcbe",
   "metadata": {},
   "outputs": [],
   "source": [
    "# Importing libraries\n",
    "import time\n",
    "import pandas as pd\n",
    "import numpy as np\n",
    "import matplotlib.pyplot as plt\n",
    "from sklearn.preprocessing import OneHotEncoder, LabelEncoder\n",
    "from sklearn.model_selection import GridSearchCV, train_test_split, KFold\n",
    "from sklearn.metrics import accuracy_score, f1_score, classification_report\n",
    "from sklearn.metrics import roc_curve, auc, roc_auc_score, make_scorer"
   ]
  },
  {
   "cell_type": "code",
   "execution_count": null,
   "id": "39abada7",
   "metadata": {},
   "outputs": [],
   "source": [
    "feature_names = ['c_delete', 'a1', 'a2', 'a3', 'a4', 'a5', 'a6', 'a7','a8', 'a9', 'target1','target2']\n",
    "data = pd.read_csv('data/ml_cup_tr.csv', skiprows=7, names=feature_names)\n",
    "data=data.drop(['c_delete'], axis=1)"
   ]
  },
  {
   "cell_type": "code",
   "execution_count": null,
   "id": "a2fa07f0",
   "metadata": {},
   "outputs": [],
   "source": [
    "X= data[['a1', 'a2', 'a3', 'a4', 'a5', 'a6', 'a7','a8', 'a9']].copy()\n",
    "y= data[['target1', 'target2']].copy()"
   ]
  },
  {
   "cell_type": "code",
   "execution_count": null,
   "id": "2996ab2b",
   "metadata": {},
   "outputs": [],
   "source": [
    "x_train, x_test, y_train, y_test = train_test_split(X, y, test_size=0.2, random_state=32)"
   ]
  },
  {
   "cell_type": "code",
   "execution_count": null,
   "id": "0bb924ee",
   "metadata": {},
   "outputs": [],
   "source": [
    "x_train = x_train.to_numpy()\n",
    "y_train = y_train.to_numpy()\n",
    "x_test = x_test.to_numpy()\n",
    "y_test = y_test.to_numpy()"
   ]
  },
  {
   "cell_type": "code",
   "execution_count": null,
   "id": "a4fa88b2",
   "metadata": {},
   "outputs": [],
   "source": [
    "def report(results, n_top=3):\n",
    "    for i in range(1, n_top + 1):\n",
    "        candidates = np.flatnonzero(results['rank_test_score'] == i)\n",
    "        for candidate in candidates:\n",
    "            print(\"Model with rank: {0}\".format(i))\n",
    "            print(\"Mean validation score: {0:.4f} (std: {1:.4f})\".format(\n",
    "                  results['mean_test_score'][candidate],\n",
    "                  results['std_test_score'][candidate]))\n",
    "            print(\"Parameters: {0}\".format(results['params'][candidate]))\n",
    "            print(\"\")"
   ]
  },
  {
   "cell_type": "markdown",
   "id": "c9b22bab",
   "metadata": {},
   "source": [
    "# Mean Euclidean Error"
   ]
  },
  {
   "cell_type": "code",
   "execution_count": null,
   "id": "2567ada1",
   "metadata": {},
   "outputs": [],
   "source": [
    "def MEE(y_true, y_pred):\n",
    "    # error[i] vector error of pattern i\n",
    "    error = y_pred - y_true\n",
    "    return np.mean(np.linalg.norm(error, axis = -1))"
   ]
  },
  {
   "cell_type": "code",
   "execution_count": null,
   "id": "0fc31c91",
   "metadata": {},
   "outputs": [],
   "source": [
    "MEE_score = make_scorer(MEE, greater_is_better = False)"
   ]
  },
  {
   "cell_type": "code",
   "execution_count": null,
   "id": "e888a1fc",
   "metadata": {},
   "outputs": [],
   "source": [
    "import keras.backend as K\n",
    "def MEE_tf(y_true, y_pred):\n",
    "    return K.mean(K.sqrt(K.sum(K.square(y_pred - y_true), axis=-1)))"
   ]
  },
  {
   "cell_type": "markdown",
   "id": "cde05364",
   "metadata": {},
   "source": [
    "# Scikeras"
   ]
  },
  {
   "cell_type": "code",
   "execution_count": null,
   "id": "62194294",
   "metadata": {},
   "outputs": [],
   "source": [
    "from scikeras.wrappers import KerasRegressor"
   ]
  },
  {
   "cell_type": "code",
   "execution_count": null,
   "id": "b652372e",
   "metadata": {},
   "outputs": [],
   "source": [
    "import tensorflow as tf\n",
    "from tensorflow import keras\n",
    "from tensorflow.keras import regularizers\n",
    "from tensorflow.keras.models import Sequential\n",
    "from tensorflow.keras.layers import Dense, Input\n",
    "from tensorflow.keras import regularizers, initializers\n",
    " \n",
    "def create_model(hidden_layers_sizes, lambda_reg, activation, weight_init):\n",
    "    n_input_ = 9\n",
    "    model = Sequential()\n",
    "    model.add(Input(shape = (n_input_, )))\n",
    "    for hidden_layer_size in hidden_layers_sizes:\n",
    "        model.add(Dense(hidden_layer_size, activity_regularizer = regularizers.L2(lambda_reg),\n",
    "                        activation = activation, kernel_initializer = weight_init))\n",
    "    model.add(Dense(2, activation = 'linear'))\n",
    "    return model"
   ]
  },
  {
   "cell_type": "code",
   "execution_count": null,
   "id": "2e8fd762",
   "metadata": {},
   "outputs": [],
   "source": [
    "clf = KerasRegressor(\n",
    "    model = create_model,\n",
    "    weight_init = tf.keras.initializers.glorot_uniform,\n",
    "    batch_size = None,\n",
    "    activation = 'tanh',\n",
    "    validation_split = 0.1,\n",
    "    loss = MEE_tf,\n",
    "    metrics = MEE_tf,\n",
    "    optimizer = 'sgd',\n",
    "    optimizer__momentum = 0.5,\n",
    "    optimizer__learning_rate = 0.5,\n",
    "    lambda_reg = 0.01,\n",
    "    hidden_layers_sizes = (30, 30),\n",
    "    epochs = 500,\n",
    "    callbacks = tf.keras.callbacks.EarlyStopping,\n",
    "    callbacks__monitor=\"val_loss\",\n",
    "    callbacks__patience = 50,\n",
    "    callbacks__min_delta = 0.001,\n",
    "    callbacks__restore_best_weights = True\n",
    ")"
   ]
  },
  {
   "cell_type": "code",
   "execution_count": null,
   "id": "33892594",
   "metadata": {},
   "outputs": [],
   "source": [
    "clf.get_params()"
   ]
  },
  {
   "cell_type": "code",
   "execution_count": null,
   "id": "4d18dfc7",
   "metadata": {
    "scrolled": true
   },
   "outputs": [],
   "source": [
    "start = time.time()\n",
    "\n",
    "param_list = {\n",
    "    'hidden_layers_sizes': [(10, 10), (30, 30), (50, 50), (100, 100),\n",
    "                            (10, 10, 10), (30, 30, 30), (50, 50, 50), (100, 100, 100)],\n",
    "    'weight_init': [tf.keras.initializers.glorot_uniform, tf.keras.initializers.random_uniform],\n",
    "    'batch_size': [None] + [1, 50, 100],\n",
    "    'activation': ['tanh'],\n",
    "    'epochs': [500],\n",
    "    'optimizer': ['sgd'],\n",
    "    'optimizer__learning_rate': [0.00001, 0.001, 0.01] + [x/10 for x in range(1, 10)],\n",
    "    'optimizer__momentum': [0] + [x/10 for x in range(1, 10)],\n",
    "    'lambda_reg': [0.0001, 0.001, 0.01, 0.1],\n",
    "    'shuffle': [True],\n",
    "    'loss': [MEE_tf]\n",
    "}\n",
    "\n",
    "grid_search = GridSearchCV(estimator = clf, param_grid = param_list,\n",
    "                           n_jobs = -1, verbose = 5, scoring= MEE_score, refit = True,\n",
    "                           cv = KFold(n_splits = 5, shuffle = True, random_state = 32))\n",
    "\n",
    "grid_search.fit(x_train, y_train)\n",
    "res = grid_search.cv_results_\n",
    "\n",
    "duration = time.time() - start \n",
    "print(f'Executed in {duration // 3600:.0f} hours {(duration % 3600)//60:.0f} minutes {duration % 60:.6f} seconds.')"
   ]
  },
  {
   "cell_type": "code",
   "execution_count": null,
   "id": "988179c8",
   "metadata": {
    "scrolled": true
   },
   "outputs": [],
   "source": [
    "report(res, n_top = 10)"
   ]
  },
  {
   "cell_type": "code",
   "execution_count": null,
   "id": "d3f975e9",
   "metadata": {},
   "outputs": [],
   "source": [
    "grid_search.best_estimator_.get_params()"
   ]
  },
  {
   "cell_type": "code",
   "execution_count": null,
   "id": "25c2f6ba",
   "metadata": {},
   "outputs": [],
   "source": [
    "y_pred = grid_search.predict(x_train)\n",
    "print('Training MEE:', MEE(y_train, y_pred))"
   ]
  },
  {
   "cell_type": "code",
   "execution_count": null,
   "id": "25b9fb8c",
   "metadata": {},
   "outputs": [],
   "source": [
    "y_pred = grid_search.predict(x_test)\n",
    "print('Test MEE', MEE(y_test, y_pred))"
   ]
  },
  {
   "cell_type": "code",
   "execution_count": null,
   "id": "2b0cd92b",
   "metadata": {},
   "outputs": [],
   "source": [
    "history = grid_search.best_estimator_.history_"
   ]
  },
  {
   "cell_type": "code",
   "execution_count": null,
   "id": "8b9ccbba",
   "metadata": {},
   "outputs": [],
   "source": [
    "# summarize history for loss\n",
    "plt.plot(history['loss'])\n",
    "plt.plot(history['val_loss'],linestyle=\"dashed\",color='red')\n",
    "plt.ylabel('MEE',fontsize=15)\n",
    "plt.xlabel('Epoch',fontsize=15)\n",
    "plt.xlim(0, 100)\n",
    "plt.ylim(1, 30)\n",
    "plt.xticks(fontsize=14)\n",
    "plt.yticks(fontsize=14)\n",
    "plt.legend(['TRAINING', 'TEST'], loc='upper right')\n",
    "plt.show()"
   ]
  },
  {
   "cell_type": "code",
   "execution_count": null,
   "id": "7af4263b",
   "metadata": {},
   "outputs": [],
   "source": []
  }
 ],
 "metadata": {
  "kernelspec": {
   "display_name": "Python 3 (ipykernel)",
   "language": "python",
   "name": "python3"
  },
  "language_info": {
   "codemirror_mode": {
    "name": "ipython",
    "version": 3
   },
   "file_extension": ".py",
   "mimetype": "text/x-python",
   "name": "python",
   "nbconvert_exporter": "python",
   "pygments_lexer": "ipython3",
   "version": "3.9.12"
  }
 },
 "nbformat": 4,
 "nbformat_minor": 5
}
