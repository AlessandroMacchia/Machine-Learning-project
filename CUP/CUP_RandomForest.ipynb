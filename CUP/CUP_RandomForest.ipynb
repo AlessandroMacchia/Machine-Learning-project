{
 "cells": [
  {
   "cell_type": "markdown",
   "id": "ef4238d8",
   "metadata": {
    "papermill": {
     "duration": 0.004484,
     "end_time": "2023-01-21T03:06:44.251322",
     "exception": false,
     "start_time": "2023-01-21T03:06:44.246838",
     "status": "completed"
    },
    "tags": []
   },
   "source": [
    "# Data set preprocessing"
   ]
  },
  {
   "cell_type": "code",
   "execution_count": null,
   "id": "538efeba",
   "metadata": {
    "papermill": {
     "duration": 0.01513,
     "end_time": "2023-01-21T03:06:44.271138",
     "exception": false,
     "start_time": "2023-01-21T03:06:44.256008",
     "status": "completed"
    },
    "tags": []
   },
   "outputs": [],
   "source": [
    "# Importing libraries\n",
    "import time\n",
    "import pandas as pd\n",
    "import numpy as np\n",
    "import matplotlib.pyplot as plt\n",
    "from sklearn.preprocessing import OneHotEncoder, LabelEncoder\n",
    "from sklearn.model_selection import GridSearchCV, train_test_split, KFold\n",
    "from sklearn.metrics import accuracy_score, f1_score, classification_report\n",
    "from sklearn.metrics import roc_curve, auc, roc_auc_score, make_scorer"
   ]
  },
  {
   "cell_type": "code",
   "execution_count": null,
   "id": "a56d744e",
   "metadata": {
    "papermill": {
     "duration": 0.056223,
     "end_time": "2023-01-21T03:06:44.332550",
     "exception": false,
     "start_time": "2023-01-21T03:06:44.276327",
     "status": "completed"
    },
    "tags": []
   },
   "outputs": [],
   "source": [
    "feature_names = ['c_delete', 'a1', 'a2', 'a3', 'a4', 'a5', 'a6', 'a7','a8', 'a9', 'target1','target2']\n",
    "data = pd.read_csv('/kaggle/input/mlcupdata/ml_cup_tr.csv', skiprows=7, names=feature_names)\n",
    "data=data.drop(['c_delete'], axis=1)"
   ]
  },
  {
   "cell_type": "code",
   "execution_count": null,
   "id": "a4a2ee38",
   "metadata": {
    "papermill": {
     "duration": 0.015016,
     "end_time": "2023-01-21T03:06:44.352584",
     "exception": false,
     "start_time": "2023-01-21T03:06:44.337568",
     "status": "completed"
    },
    "tags": []
   },
   "outputs": [],
   "source": [
    "X= data[['a1', 'a2', 'a3', 'a4', 'a5', 'a6', 'a7','a8', 'a9']].copy()\n",
    "y= data[['target1', 'target2']].copy()"
   ]
  },
  {
   "cell_type": "code",
   "execution_count": null,
   "id": "11d151f3",
   "metadata": {
    "papermill": {
     "duration": 0.053377,
     "end_time": "2023-01-21T03:06:44.410908",
     "exception": false,
     "start_time": "2023-01-21T03:06:44.357531",
     "status": "completed"
    },
    "tags": []
   },
   "outputs": [],
   "source": [
    "x_train, x_test, y_train, y_test = train_test_split(X, y, test_size=0.2, random_state=32)"
   ]
  },
  {
   "cell_type": "code",
   "execution_count": null,
   "id": "75b7800b",
   "metadata": {
    "papermill": {
     "duration": 0.013694,
     "end_time": "2023-01-21T03:06:44.429624",
     "exception": false,
     "start_time": "2023-01-21T03:06:44.415930",
     "status": "completed"
    },
    "tags": []
   },
   "outputs": [],
   "source": [
    "x_train = x_train.to_numpy()\n",
    "y_train = y_train.to_numpy()\n",
    "x_test = x_test.to_numpy()\n",
    "y_test = y_test.to_numpy()"
   ]
  },
  {
   "cell_type": "code",
   "execution_count": null,
   "id": "7ad5aa56",
   "metadata": {
    "papermill": {
     "duration": 0.015036,
     "end_time": "2023-01-21T03:06:44.449778",
     "exception": false,
     "start_time": "2023-01-21T03:06:44.434742",
     "status": "completed"
    },
    "tags": []
   },
   "outputs": [],
   "source": [
    "def report(results, n_top=3):\n",
    "    for i in range(1, n_top + 1):\n",
    "        candidates = np.flatnonzero(results['rank_test_score'] == i)\n",
    "        for candidate in candidates:\n",
    "            print(\"Model with rank: {0}\".format(i))\n",
    "            print(\"Mean validation score: {0:.4f} (std: {1:.4f})\".format(\n",
    "                  results['mean_test_score'][candidate],\n",
    "                  results['std_test_score'][candidate]))\n",
    "            print(\"Parameters: {0}\".format(results['params'][candidate]))\n",
    "            print(\"\")"
   ]
  },
  {
   "cell_type": "markdown",
   "id": "abe250be",
   "metadata": {
    "papermill": {
     "duration": 0.004662,
     "end_time": "2023-01-21T03:06:44.459741",
     "exception": false,
     "start_time": "2023-01-21T03:06:44.455079",
     "status": "completed"
    },
    "tags": []
   },
   "source": [
    "# Mean Euclidean Error"
   ]
  },
  {
   "cell_type": "code",
   "execution_count": null,
   "id": "b8f6df29",
   "metadata": {
    "papermill": {
     "duration": 0.014418,
     "end_time": "2023-01-21T03:06:44.480875",
     "exception": false,
     "start_time": "2023-01-21T03:06:44.466457",
     "status": "completed"
    },
    "tags": []
   },
   "outputs": [],
   "source": [
    "def MEE(y_true, y_pred):\n",
    "    # error[i] vector error of pattern i\n",
    "    error = y_pred - y_true\n",
    "    return np.mean(np.linalg.norm(error, axis = -1))"
   ]
  },
  {
   "cell_type": "code",
   "execution_count": null,
   "id": "84975cab",
   "metadata": {
    "papermill": {
     "duration": 0.013998,
     "end_time": "2023-01-21T03:06:44.499943",
     "exception": false,
     "start_time": "2023-01-21T03:06:44.485945",
     "status": "completed"
    },
    "tags": []
   },
   "outputs": [],
   "source": [
    "MEE_score = make_scorer(MEE, greater_is_better = False)"
   ]
  },
  {
   "cell_type": "markdown",
   "id": "e3d55ee7",
   "metadata": {
    "papermill": {
     "duration": 0.004841,
     "end_time": "2023-01-21T03:06:44.510106",
     "exception": false,
     "start_time": "2023-01-21T03:06:44.505265",
     "status": "completed"
    },
    "tags": []
   },
   "source": [
    "# Random Forest"
   ]
  },
  {
   "cell_type": "code",
   "execution_count": null,
   "id": "b1c72ded",
   "metadata": {
    "papermill": {
     "duration": 0.015931,
     "end_time": "2023-01-21T03:06:44.531037",
     "exception": false,
     "start_time": "2023-01-21T03:06:44.515106",
     "status": "completed"
    },
    "tags": []
   },
   "outputs": [],
   "source": [
    "from sklearn.ensemble import RandomForestRegressor\n",
    "from sklearn.multioutput import MultiOutputRegressor"
   ]
  },
  {
   "cell_type": "code",
   "execution_count": null,
   "id": "4122e2a3",
   "metadata": {
    "papermill": {
     "duration": 0.014139,
     "end_time": "2023-01-21T03:06:44.550460",
     "exception": false,
     "start_time": "2023-01-21T03:06:44.536321",
     "status": "completed"
    },
    "tags": []
   },
   "outputs": [],
   "source": [
    "clf = MultiOutputRegressor(RandomForestRegressor())"
   ]
  },
  {
   "cell_type": "code",
   "execution_count": null,
   "id": "77b583f1",
   "metadata": {
    "papermill": {
     "duration": 13392.985279,
     "end_time": "2023-01-21T06:49:57.541173",
     "exception": false,
     "start_time": "2023-01-21T03:06:44.555894",
     "status": "completed"
    },
    "tags": []
   },
   "outputs": [],
   "source": [
    "start = time.time()\n",
    "\n",
    "param_list = {\n",
    "    'estimator__n_estimators': [100, 200, 500],\n",
    "    'estimator__max_depth': [None] + [x for x in range(1, 21)],\n",
    "    'estimator__min_samples_leaf': [x for x in range(1, 21)],\n",
    "    'estimator__max_features': [x for x in range(1, 18)]\n",
    "}\n",
    "\n",
    "grid_search = GridSearchCV(estimator = clf, param_grid = param_list,\n",
    "                           n_jobs = -1, verbose = 5, scoring=MEE_score, refit = True,\n",
    "                           cv = KFold(n_splits = 5, shuffle = True, random_state = 32))\n",
    "\n",
    "grid_search.fit(x_train, y_train)\n",
    "res = grid_search.cv_results_\n",
    "\n",
    "duration = time.time() - start \n",
    "print(f'Executed in {duration // 3600:.0f} hours {(duration % 3600)//60:.0f} minutes {duration % 60:.6f} seconds.')"
   ]
  },
  {
   "cell_type": "code",
   "execution_count": null,
   "id": "2b249c02",
   "metadata": {
    "papermill": {
     "duration": 0.402386,
     "end_time": "2023-01-21T06:49:58.337418",
     "exception": false,
     "start_time": "2023-01-21T06:49:57.935032",
     "status": "completed"
    },
    "tags": []
   },
   "outputs": [],
   "source": [
    "report(res, n_top = 10)"
   ]
  },
  {
   "cell_type": "code",
   "execution_count": null,
   "id": "9dbc09c5",
   "metadata": {
    "papermill": {
     "duration": 0.399618,
     "end_time": "2023-01-21T06:49:59.113466",
     "exception": false,
     "start_time": "2023-01-21T06:49:58.713848",
     "status": "completed"
    },
    "tags": []
   },
   "outputs": [],
   "source": [
    "grid_search.best_estimator_"
   ]
  },
  {
   "cell_type": "code",
   "execution_count": null,
   "id": "8ba8ccb1",
   "metadata": {
    "papermill": {
     "duration": 0.584106,
     "end_time": "2023-01-21T06:50:00.076281",
     "exception": false,
     "start_time": "2023-01-21T06:49:59.492175",
     "status": "completed"
    },
    "tags": []
   },
   "outputs": [],
   "source": [
    "y_pred = grid_search.predict(x_train)\n",
    "print(MEE(y_train, y_pred))"
   ]
  },
  {
   "cell_type": "code",
   "execution_count": null,
   "id": "8a2ed1fc",
   "metadata": {
    "papermill": {
     "duration": 0.446283,
     "end_time": "2023-01-21T06:50:00.913834",
     "exception": false,
     "start_time": "2023-01-21T06:50:00.467551",
     "status": "completed"
    },
    "tags": []
   },
   "outputs": [],
   "source": [
    "y_pred = grid_search.predict(x_test)\n",
    "print(MEE(y_test, y_pred))"
   ]
  },
  {
   "cell_type": "code",
   "execution_count": null,
   "id": "cf4df86b",
   "metadata": {
    "papermill": {
     "duration": 0.374113,
     "end_time": "2023-01-21T06:50:01.688894",
     "exception": false,
     "start_time": "2023-01-21T06:50:01.314781",
     "status": "completed"
    },
    "tags": []
   },
   "outputs": [],
   "source": []
  }
 ],
 "metadata": {
  "kernelspec": {
   "display_name": "Python 3 (ipykernel)",
   "language": "python",
   "name": "python3"
  },
  "language_info": {
   "codemirror_mode": {
    "name": "ipython",
    "version": 3
   },
   "file_extension": ".py",
   "mimetype": "text/x-python",
   "name": "python",
   "nbconvert_exporter": "python",
   "pygments_lexer": "ipython3",
   "version": "3.9.12"
  },
  "papermill": {
   "default_parameters": {},
   "duration": 13424.72459,
   "end_time": "2023-01-21T06:50:04.719503",
   "environment_variables": {},
   "exception": null,
   "input_path": "__notebook__.ipynb",
   "output_path": "__notebook__.ipynb",
   "parameters": {},
   "start_time": "2023-01-21T03:06:19.994913",
   "version": "2.3.4"
  }
 },
 "nbformat": 4,
 "nbformat_minor": 5
}
