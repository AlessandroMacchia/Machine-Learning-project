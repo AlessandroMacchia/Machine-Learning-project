{
 "cells": [
  {
   "cell_type": "markdown",
   "id": "fa17f9c7",
   "metadata": {},
   "source": [
    "# Data set preprocessing"
   ]
  },
  {
   "cell_type": "code",
   "execution_count": null,
   "id": "0f669805",
   "metadata": {},
   "outputs": [],
   "source": [
    "# Importing libraries\n",
    "import time\n",
    "import pandas as pd\n",
    "import numpy as np\n",
    "import matplotlib.pyplot as plt\n",
    "from sklearn.preprocessing import OneHotEncoder, LabelEncoder\n",
    "from sklearn.model_selection import GridSearchCV, train_test_split, KFold\n",
    "from sklearn.metrics import accuracy_score, f1_score, classification_report\n",
    "from sklearn.metrics import roc_curve, auc, roc_auc_score, make_scorer"
   ]
  },
  {
   "cell_type": "code",
   "execution_count": null,
   "id": "41f40abc",
   "metadata": {},
   "outputs": [],
   "source": [
    "feature_names = ['c_delete', 'a1', 'a2', 'a3', 'a4', 'a5', 'a6', 'a7','a8', 'a9', 'target1','target2']\n",
    "data = pd.read_csv('data/ml_cup_tr.csv', skiprows=7, names=feature_names)\n",
    "data=data.drop(['c_delete'], axis=1)"
   ]
  },
  {
   "cell_type": "code",
   "execution_count": null,
   "id": "76ba0b56",
   "metadata": {},
   "outputs": [],
   "source": [
    "X= data[['a1', 'a2', 'a3', 'a4', 'a5', 'a6', 'a7','a8', 'a9']].copy()\n",
    "y= data[['target1', 'target2']].copy()"
   ]
  },
  {
   "cell_type": "code",
   "execution_count": null,
   "id": "0b7702e0",
   "metadata": {},
   "outputs": [],
   "source": [
    "x_train, x_test, y_train, y_test = train_test_split(X, y, test_size=0.2, random_state=32)"
   ]
  },
  {
   "cell_type": "code",
   "execution_count": null,
   "id": "f7d41fd1",
   "metadata": {},
   "outputs": [],
   "source": [
    "x_train = x_train.to_numpy()\n",
    "y_train = y_train.to_numpy()\n",
    "x_test = x_test.to_numpy()\n",
    "y_test = y_test.to_numpy()"
   ]
  },
  {
   "cell_type": "code",
   "execution_count": null,
   "id": "9e69eeb8",
   "metadata": {},
   "outputs": [],
   "source": [
    "def report(results, n_top=3):\n",
    "    for i in range(1, n_top + 1):\n",
    "        candidates = np.flatnonzero(results['rank_test_score'] == i)\n",
    "        for candidate in candidates:\n",
    "            print(\"Model with rank: {0}\".format(i))\n",
    "            print(\"Mean validation score: {0:.4f} (std: {1:.4f})\".format(\n",
    "                  results['mean_test_score'][candidate],\n",
    "                  results['std_test_score'][candidate]))\n",
    "            print(\"Parameters: {0}\".format(results['params'][candidate]))\n",
    "            print(\"\")"
   ]
  },
  {
   "cell_type": "markdown",
   "id": "f892337c",
   "metadata": {},
   "source": [
    "# Mean Euclidean Error"
   ]
  },
  {
   "cell_type": "code",
   "execution_count": null,
   "id": "6b5b737a",
   "metadata": {},
   "outputs": [],
   "source": [
    "def MEE(y_true, y_pred):\n",
    "    # error[i] vector error of pattern i\n",
    "    error = y_pred - y_true\n",
    "    return np.mean(np.linalg.norm(error, axis = -1))"
   ]
  },
  {
   "cell_type": "code",
   "execution_count": null,
   "id": "1b2d03b6",
   "metadata": {},
   "outputs": [],
   "source": [
    "MEE_score = make_scorer(MEE, greater_is_better = False)"
   ]
  },
  {
   "cell_type": "markdown",
   "id": "26555974",
   "metadata": {},
   "source": [
    "# KNN"
   ]
  },
  {
   "cell_type": "code",
   "execution_count": null,
   "id": "2974a16e",
   "metadata": {},
   "outputs": [],
   "source": [
    "from sklearn.neighbors import KNeighborsRegressor"
   ]
  },
  {
   "cell_type": "code",
   "execution_count": null,
   "id": "68652601",
   "metadata": {},
   "outputs": [],
   "source": [
    "clf = KNeighborsRegressor()"
   ]
  },
  {
   "cell_type": "code",
   "execution_count": null,
   "id": "d026ccb7",
   "metadata": {},
   "outputs": [],
   "source": [
    "start = time.time()\n",
    "param_list = {'n_neighbors': [x for x in range(1, 201)],\n",
    "              'weights': ['uniform', 'distance'],\n",
    "              'p': [1, 2]\n",
    "             }\n",
    "grid_search = GridSearchCV(estimator = clf, param_grid = param_list,\n",
    "                           n_jobs = -1, verbose = 5, scoring=MEE_score, refit = True,\n",
    "                           cv = KFold(n_splits = 5, shuffle = True, random_state = 32))\n",
    "grid_search.fit(x_train, y_train)\n",
    "res = grid_search.cv_results_\n",
    "\n",
    "duration = time.time() - start \n",
    "print(f'Executed in {duration // 3600:.0f} hours {(duration % 3600)//60:.0f} minutes {duration % 60:.6f} seconds.')"
   ]
  },
  {
   "cell_type": "code",
   "execution_count": null,
   "id": "f90f2c61",
   "metadata": {},
   "outputs": [],
   "source": [
    "report(res, n_top = 3)"
   ]
  },
  {
   "cell_type": "code",
   "execution_count": null,
   "id": "2b7fa73e",
   "metadata": {},
   "outputs": [],
   "source": [
    "grid_search.best_estimator_"
   ]
  },
  {
   "cell_type": "code",
   "execution_count": null,
   "id": "73bf323b",
   "metadata": {},
   "outputs": [],
   "source": [
    "y_pred = grid_search.predict(x_train)\n",
    "print(MEE(y_train, y_pred))"
   ]
  },
  {
   "cell_type": "code",
   "execution_count": null,
   "id": "6bf90a4b",
   "metadata": {},
   "outputs": [],
   "source": [
    "y_pred = grid_search.predict(x_test)\n",
    "print(MEE(y_test, y_pred))"
   ]
  },
  {
   "cell_type": "code",
   "execution_count": null,
   "id": "6adb6a23",
   "metadata": {},
   "outputs": [],
   "source": []
  }
 ],
 "metadata": {
  "kernelspec": {
   "display_name": "Python 3 (ipykernel)",
   "language": "python",
   "name": "python3"
  },
  "language_info": {
   "codemirror_mode": {
    "name": "ipython",
    "version": 3
   },
   "file_extension": ".py",
   "mimetype": "text/x-python",
   "name": "python",
   "nbconvert_exporter": "python",
   "pygments_lexer": "ipython3",
   "version": "3.9.12"
  }
 },
 "nbformat": 4,
 "nbformat_minor": 5
}
