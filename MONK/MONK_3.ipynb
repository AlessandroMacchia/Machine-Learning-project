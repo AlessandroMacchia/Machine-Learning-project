{
 "cells": [
  {
   "cell_type": "markdown",
   "id": "5fa7c5db",
   "metadata": {},
   "source": [
    "# Monks 3"
   ]
  },
  {
   "cell_type": "code",
   "execution_count": null,
   "id": "bf424c38",
   "metadata": {},
   "outputs": [],
   "source": [
    "# Importing libraries\n",
    "import time\n",
    "import pandas as pd\n",
    "import numpy as np\n",
    "import matplotlib.pyplot as plt\n",
    "from sklearn.preprocessing import OneHotEncoder, LabelEncoder\n",
    "from sklearn.model_selection import GridSearchCV, KFold\n",
    "from sklearn.metrics import accuracy_score, classification_report"
   ]
  },
  {
   "cell_type": "code",
   "execution_count": null,
   "id": "1e9479ac",
   "metadata": {},
   "outputs": [],
   "source": [
    "def report(results, n_top=5):\n",
    "    for i in range(1, n_top + 1):\n",
    "        candidates = np.flatnonzero(results['rank_test_score'] == i)\n",
    "        for candidate in candidates:\n",
    "            print(\"Model with rank: {0}\".format(i))\n",
    "            print(\"Mean validation score: {0:.4f} (std: {1:.4f})\".format(\n",
    "                results['mean_test_score'][candidate],\n",
    "                results['std_test_score'][candidate]))\n",
    "            print(\"Parameters: {0}\".format(results['params'][candidate]))\n",
    "            print(\"\")"
   ]
  },
  {
   "cell_type": "code",
   "execution_count": null,
   "id": "58d4a6d4",
   "metadata": {},
   "outputs": [],
   "source": [
    "# Define encoders\n",
    "encoder = OneHotEncoder()\n",
    "lencoder = LabelEncoder()"
   ]
  },
  {
   "cell_type": "code",
   "execution_count": null,
   "id": "136515a1",
   "metadata": {},
   "outputs": [],
   "source": [
    "# Import data set\n",
    "feature_names = ['class', 'a1', 'a2', 'a3', 'a4', 'a5', 'a6', 'id']\n",
    "df = pd.read_csv('data/monks_3_train.txt', sep = ' ', header = None, names = feature_names, skipinitialspace = True)\n",
    "x_train = df.filter(['a1', 'a2', 'a3', 'a4', 'a5', 'a6'], axis = 1)\n",
    "y_train = df.filter(['class'], axis = 1)\n",
    "\n",
    "df_test = pd.read_csv('data/monks_3_test.txt', sep = ' ', header = None, names = feature_names, skipinitialspace = True)\n",
    "x_test = df_test.filter(['a1', 'a2', 'a3', 'a4', 'a5', 'a6'], axis = 1)\n",
    "y_test = df_test.filter(['class'], axis = 1)"
   ]
  },
  {
   "cell_type": "code",
   "execution_count": null,
   "id": "534cb884",
   "metadata": {},
   "outputs": [],
   "source": [
    "# Convert to np array\n",
    "x_train = x_train.to_numpy()\n",
    "y_train = y_train.to_numpy().squeeze()\n",
    "x_test = x_test.to_numpy()\n",
    "y_test = y_test.to_numpy().squeeze()"
   ]
  },
  {
   "cell_type": "code",
   "execution_count": null,
   "id": "d5f0a3ed",
   "metadata": {},
   "outputs": [],
   "source": [
    "encoder.fit(x_train)\n",
    "x_train = encoder.transform(x_train).toarray().astype(int)\n",
    "x_test = encoder.transform(x_test).toarray().astype(int)"
   ]
  },
  {
   "cell_type": "markdown",
   "id": "49a2b0b9",
   "metadata": {},
   "source": [
    "# Naive Bayes"
   ]
  },
  {
   "cell_type": "code",
   "execution_count": null,
   "id": "9886455c",
   "metadata": {},
   "outputs": [],
   "source": [
    "from sklearn.naive_bayes import CategoricalNB"
   ]
  },
  {
   "cell_type": "code",
   "execution_count": null,
   "id": "f414d166",
   "metadata": {},
   "outputs": [],
   "source": [
    "clf = CategoricalNB()"
   ]
  },
  {
   "cell_type": "code",
   "execution_count": null,
   "id": "fdafdf78",
   "metadata": {},
   "outputs": [],
   "source": [
    "start = time.time()\n",
    "\n",
    "param_list = {\n",
    "    'alpha': [x/10 for x in range(1, 10001)]\n",
    "\n",
    "}\n",
    "grid_search = GridSearchCV(estimator = clf, param_grid = param_list,\n",
    "                           n_jobs = -1, verbose = 5, scoring='accuracy', refit = True,\n",
    "                           cv = KFold(n_splits = 5, shuffle = True, random_state = 32))\n",
    "\n",
    "grid_search.fit(x_train, y_train)\n",
    "res = grid_search.cv_results_\n",
    "\n",
    "duration = time.time() - start \n",
    "print(f'Executed in {duration // 3600:.0f} hours {(duration % 3600)//60:.0f} minutes {duration % 60:.6f} seconds.')"
   ]
  },
  {
   "cell_type": "code",
   "execution_count": null,
   "id": "aa80b79e",
   "metadata": {
    "scrolled": true
   },
   "outputs": [],
   "source": [
    "report(res, n_top = 5)"
   ]
  },
  {
   "cell_type": "code",
   "execution_count": null,
   "id": "97c7d7eb",
   "metadata": {},
   "outputs": [],
   "source": [
    "grid_search.best_estimator_.get_params()"
   ]
  },
  {
   "cell_type": "code",
   "execution_count": null,
   "id": "61e79fc9",
   "metadata": {},
   "outputs": [],
   "source": [
    "y_pred = grid_search.predict(x_train)\n",
    "print('Accuracy %s' % accuracy_score(y_train, y_pred))\n",
    "print(classification_report(y_train, y_pred))"
   ]
  },
  {
   "cell_type": "code",
   "execution_count": null,
   "id": "f6901ffc",
   "metadata": {
    "scrolled": true
   },
   "outputs": [],
   "source": [
    "y_pred = grid_search.predict(x_test)\n",
    "print('Accuracy %s' % accuracy_score(y_test, y_pred))\n",
    "print(classification_report(y_test, y_pred))"
   ]
  },
  {
   "cell_type": "markdown",
   "id": "3fc94e1a",
   "metadata": {},
   "source": [
    "# KNN (Sci-Kit Learn)"
   ]
  },
  {
   "cell_type": "code",
   "execution_count": null,
   "id": "4139e3e6",
   "metadata": {},
   "outputs": [],
   "source": [
    "from sklearn.neighbors import KNeighborsClassifier"
   ]
  },
  {
   "cell_type": "code",
   "execution_count": null,
   "id": "68e120d9",
   "metadata": {
    "scrolled": true
   },
   "outputs": [],
   "source": [
    "clf = KNeighborsClassifier()"
   ]
  },
  {
   "cell_type": "code",
   "execution_count": null,
   "id": "a90aae8e",
   "metadata": {},
   "outputs": [],
   "source": [
    "start = time.time()\n",
    "\n",
    "param_list = {'n_neighbors': [x for x in range(1, 81)],\n",
    "              'weights': ['uniform', 'distance'],\n",
    "              'p': [1, 2]\n",
    "}\n",
    "\n",
    "grid_search = GridSearchCV(estimator = clf, param_grid = param_list,\n",
    "                           n_jobs = -1, verbose = 5, scoring='accuracy', refit = True,\n",
    "                           cv = KFold(n_splits = 5, shuffle = True, random_state = 32))\n",
    "\n",
    "grid_search.fit(x_train, y_train)\n",
    "res = grid_search.cv_results_\n",
    "\n",
    "duration = time.time() - start \n",
    "print(f'Executed in {duration // 3600:.0f} hours {(duration % 3600)//60:.0f} minutes {duration % 60:.6f} seconds.')"
   ]
  },
  {
   "cell_type": "code",
   "execution_count": null,
   "id": "806c7933",
   "metadata": {},
   "outputs": [],
   "source": [
    "report(res, n_top = 5)"
   ]
  },
  {
   "cell_type": "code",
   "execution_count": null,
   "id": "ccead7a4",
   "metadata": {},
   "outputs": [],
   "source": [
    "grid_search.best_estimator_.get_params()"
   ]
  },
  {
   "cell_type": "code",
   "execution_count": null,
   "id": "20133c7b",
   "metadata": {},
   "outputs": [],
   "source": [
    "y_pred = grid_search.predict(x_train)\n",
    "print('Accuracy %s' % accuracy_score(y_train, y_pred))\n",
    "print(classification_report(y_train, y_pred))"
   ]
  },
  {
   "cell_type": "code",
   "execution_count": null,
   "id": "4d9ba43f",
   "metadata": {
    "scrolled": true
   },
   "outputs": [],
   "source": [
    "y_pred = grid_search.predict(x_test)\n",
    "print('Accuracy %s' % accuracy_score(y_test, y_pred))\n",
    "print(classification_report(y_test, y_pred))"
   ]
  },
  {
   "cell_type": "markdown",
   "id": "7f81aa8c",
   "metadata": {},
   "source": [
    "# SVM (Sci-Kit Learn)"
   ]
  },
  {
   "cell_type": "code",
   "execution_count": null,
   "id": "36c4ac21",
   "metadata": {},
   "outputs": [],
   "source": [
    "from sklearn.svm import SVC"
   ]
  },
  {
   "cell_type": "code",
   "execution_count": null,
   "id": "553ffdbb",
   "metadata": {
    "scrolled": true
   },
   "outputs": [],
   "source": [
    "clf = SVC()"
   ]
  },
  {
   "cell_type": "code",
   "execution_count": null,
   "id": "53d86368",
   "metadata": {},
   "outputs": [],
   "source": [
    "start = time.time()\n",
    "\n",
    "param_list = {'C': [x for x in range(1, 101)],\n",
    "              'kernel': ['linear', 'poly', 'rbf', 'sigmoid'],\n",
    "              'gamma': ['auto', 'scale'],\n",
    "              'degree': [x for x in range(1, 11)]\n",
    "}\n",
    "grid_search = GridSearchCV(estimator = clf, param_grid = param_list,\n",
    "                           n_jobs = -1, verbose = 2, scoring='accuracy', refit = True,\n",
    "                           cv = KFold(n_splits = 5, shuffle = True, random_state = 32))\n",
    "\n",
    "grid_search.fit(x_train, y_train)\n",
    "res = grid_search.cv_results_\n",
    "\n",
    "duration = time.time() - start \n",
    "print(f'Executed in {duration // 3600:.0f} hours {(duration % 3600)//60:.0f} minutes {duration % 60:.6f} seconds.')"
   ]
  },
  {
   "cell_type": "code",
   "execution_count": null,
   "id": "94ee0873",
   "metadata": {},
   "outputs": [],
   "source": [
    "report(res, n_top = 5)"
   ]
  },
  {
   "cell_type": "code",
   "execution_count": null,
   "id": "e4b4849a",
   "metadata": {},
   "outputs": [],
   "source": [
    "grid_search.best_estimator_.get_params()"
   ]
  },
  {
   "cell_type": "code",
   "execution_count": null,
   "id": "2e42ab34",
   "metadata": {},
   "outputs": [],
   "source": [
    "y_pred = grid_search.predict(x_train)\n",
    "print('Accuracy %s' % accuracy_score(y_train, y_pred))\n",
    "print(classification_report(y_train, y_pred))"
   ]
  },
  {
   "cell_type": "code",
   "execution_count": null,
   "id": "8b7af9dc",
   "metadata": {
    "scrolled": true
   },
   "outputs": [],
   "source": [
    "y_pred = grid_search.predict(x_test)\n",
    "print('Accuracy %s' % accuracy_score(y_test, y_pred))\n",
    "print(classification_report(y_test, y_pred))"
   ]
  },
  {
   "cell_type": "markdown",
   "id": "b4c0c642",
   "metadata": {},
   "source": [
    "# Random Forest (Sci-Kit Learn)"
   ]
  },
  {
   "cell_type": "code",
   "execution_count": null,
   "id": "c255ef4b",
   "metadata": {},
   "outputs": [],
   "source": [
    "from sklearn.ensemble import RandomForestClassifier"
   ]
  },
  {
   "cell_type": "code",
   "execution_count": null,
   "id": "5b27aa6c",
   "metadata": {
    "scrolled": true
   },
   "outputs": [],
   "source": [
    "clf = RandomForestClassifier()"
   ]
  },
  {
   "cell_type": "code",
   "execution_count": null,
   "id": "cf4decb6",
   "metadata": {},
   "outputs": [],
   "source": [
    "start = time.time()\n",
    "\n",
    "param_list = {\n",
    "    'n_estimators': [100, 200, 500],\n",
    "    'max_depth': [None] + [x for x in range(1, 21)],\n",
    "    'min_samples_leaf': [x for x in range(1, 21)],\n",
    "    'criterion': ['gini', 'entropy']\n",
    "}\n",
    "\n",
    "grid_search = GridSearchCV(estimator = clf, param_grid = param_list,\n",
    "                           n_jobs = -1, verbose = 2, scoring='accuracy', refit = True,\n",
    "                           cv = KFold(n_splits = 5, shuffle = True, random_state = 32))\n",
    "\n",
    "grid_search.fit(x_train, y_train)\n",
    "res = grid_search.cv_results_\n",
    "\n",
    "duration = time.time() - start \n",
    "print(f'Executed in {duration // 3600:.0f} hours {(duration % 3600)//60:.0f} minutes {duration % 60:.6f} seconds.')"
   ]
  },
  {
   "cell_type": "code",
   "execution_count": null,
   "id": "420765e6",
   "metadata": {
    "scrolled": true
   },
   "outputs": [],
   "source": [
    "report(res, n_top = 5)"
   ]
  },
  {
   "cell_type": "code",
   "execution_count": null,
   "id": "296a2aad",
   "metadata": {
    "scrolled": true
   },
   "outputs": [],
   "source": [
    "grid_search.best_estimator_.get_params()"
   ]
  },
  {
   "cell_type": "code",
   "execution_count": null,
   "id": "32b77a6c",
   "metadata": {},
   "outputs": [],
   "source": [
    "y_pred = grid_search.predict(x_train)\n",
    "print(classification_report(y_train, y_pred))"
   ]
  },
  {
   "cell_type": "code",
   "execution_count": null,
   "id": "a3ceee9c",
   "metadata": {
    "scrolled": true
   },
   "outputs": [],
   "source": [
    "y_pred = grid_search.predict(x_test)\n",
    "print(classification_report(y_test, y_pred))"
   ]
  },
  {
   "cell_type": "markdown",
   "id": "7b7be0aa",
   "metadata": {},
   "source": [
    "# Multilayer Perceptron (Sci-Kit Learn) - No regularisation"
   ]
  },
  {
   "cell_type": "code",
   "execution_count": null,
   "id": "bb24d3e9",
   "metadata": {},
   "outputs": [],
   "source": [
    "from sklearn.neural_network import MLPClassifier"
   ]
  },
  {
   "cell_type": "code",
   "execution_count": null,
   "id": "3814027b",
   "metadata": {
    "scrolled": true
   },
   "outputs": [],
   "source": [
    "clf = MLPClassifier()"
   ]
  },
  {
   "cell_type": "code",
   "execution_count": null,
   "id": "b0341078",
   "metadata": {},
   "outputs": [],
   "source": [
    "start = time.time()\n",
    "\n",
    "param_list = {'hidden_layer_sizes': [(2,), (3,), (4,), (2, 2)],\n",
    "              'solver': ['sgd'],\n",
    "              'activation': ['relu'],\n",
    "              'learning_rate_init': [0.0001, 0.001, 0.01] + [x/10 for x in range(1, 11)], # eta in our notation\n",
    "              'momentum': [0, 0.01] + [x/10 for x  in range(1, 10)], # alpha in our notation\n",
    "              'nesterovs_momentum': [False],\n",
    "              'max_iter': [10000],\n",
    "              'n_iter_no_change': [200],\n",
    "              'alpha': [0], # L2 regularisation / lambda in our notation\n",
    "              'shuffle': [True]\n",
    "}\n",
    "\n",
    "grid_search = GridSearchCV(estimator = clf, param_grid = param_list,\n",
    "                           n_jobs = -1, verbose = 5, scoring='accuracy', refit = True,\n",
    "                           cv = KFold(n_splits = 5, shuffle = True, random_state = 32))\n",
    "\n",
    "grid_search.fit(x_train, y_train)\n",
    "res = grid_search.cv_results_\n",
    "\n",
    "duration = time.time() - start \n",
    "print(f'Executed in {duration // 3600:.0f} hours {(duration % 3600)//60:.0f} minutes {duration % 60:.6f} seconds.')"
   ]
  },
  {
   "cell_type": "code",
   "execution_count": null,
   "id": "a1cce630",
   "metadata": {
    "scrolled": true
   },
   "outputs": [],
   "source": [
    "report(res, n_top = 5)"
   ]
  },
  {
   "cell_type": "code",
   "execution_count": null,
   "id": "09de288b",
   "metadata": {},
   "outputs": [],
   "source": [
    "grid_search.best_estimator_.get_params()"
   ]
  },
  {
   "cell_type": "code",
   "execution_count": null,
   "id": "9336383d",
   "metadata": {},
   "outputs": [],
   "source": [
    "y_pred = grid_search.predict(x_train)\n",
    "print('Accuracy %s' % accuracy_score(y_train, y_pred))\n",
    "print(classification_report(y_train, y_pred))"
   ]
  },
  {
   "cell_type": "code",
   "execution_count": null,
   "id": "d9d74946",
   "metadata": {},
   "outputs": [],
   "source": [
    "y_pred = grid_search.predict(x_test)\n",
    "print('Accuracy %s' % accuracy_score(y_test, y_pred))\n",
    "print(classification_report(y_test, y_pred))"
   ]
  },
  {
   "cell_type": "markdown",
   "id": "5d3f5509",
   "metadata": {},
   "source": [
    "# Multilayer Perceptron (Sci-Kit Learn) - With regularisation"
   ]
  },
  {
   "cell_type": "code",
   "execution_count": null,
   "id": "e3e5bff2",
   "metadata": {},
   "outputs": [],
   "source": [
    "from sklearn.neural_network import MLPClassifier"
   ]
  },
  {
   "cell_type": "code",
   "execution_count": null,
   "id": "99a4b1a6",
   "metadata": {
    "scrolled": true
   },
   "outputs": [],
   "source": [
    "clf = MLPClassifier()"
   ]
  },
  {
   "cell_type": "code",
   "execution_count": null,
   "id": "c296cd6e",
   "metadata": {},
   "outputs": [],
   "source": [
    "start = time.time()\n",
    "\n",
    "param_list = {'hidden_layer_sizes': [(2,), (3,), (4,), (2, 2)],\n",
    "              'solver': ['sgd'],\n",
    "              'activation': ['relu'],\n",
    "              'learning_rate_init': [0.0001, 0.001, 0.01] + [x/10 for x in range(1, 11)], # eta in our notation\n",
    "              'momentum': [0, 0.01] + [x/10 for x  in range(1, 10)], # alpha in our notation\n",
    "              'nesterovs_momentum': [False],\n",
    "              'max_iter': [10000],\n",
    "              'n_iter_no_change': [200],\n",
    "              'alpha': [0.0001, 0.001, 0.01] + [x/10 for x in range(1, 10)], # L2 regularisation / lambda in our notation\n",
    "              'shuffle': [True]\n",
    "}\n",
    "\n",
    "grid_search = GridSearchCV(estimator = clf, param_grid = param_list,\n",
    "                           n_jobs = -1, verbose = 5, scoring='accuracy', refit = True,\n",
    "                           cv = KFold(n_splits = 5, shuffle = True, random_state = 32))\n",
    "\n",
    "grid_search.fit(x_train, y_train)\n",
    "res = grid_search.cv_results_\n",
    "\n",
    "duration = time.time() - start \n",
    "print(f'Executed in {duration // 3600:.0f} hours {(duration % 3600)//60:.0f} minutes {duration % 60:.6f} seconds.')"
   ]
  },
  {
   "cell_type": "code",
   "execution_count": null,
   "id": "e89c4190",
   "metadata": {
    "scrolled": true
   },
   "outputs": [],
   "source": [
    "report(res, n_top = 5)"
   ]
  },
  {
   "cell_type": "code",
   "execution_count": null,
   "id": "d2ea1a59",
   "metadata": {},
   "outputs": [],
   "source": [
    "grid_search.best_estimator_.get_params()"
   ]
  },
  {
   "cell_type": "code",
   "execution_count": null,
   "id": "fe234cc0",
   "metadata": {},
   "outputs": [],
   "source": [
    "y_pred = grid_search.predict(x_train)\n",
    "print('Accuracy %s' % accuracy_score(y_train, y_pred))\n",
    "print(classification_report(y_train, y_pred))"
   ]
  },
  {
   "cell_type": "code",
   "execution_count": null,
   "id": "d93bb60f",
   "metadata": {
    "scrolled": true
   },
   "outputs": [],
   "source": [
    "y_pred = grid_search.predict(x_test)\n",
    "print('Accuracy %s' % accuracy_score(y_test, y_pred))\n",
    "print(classification_report(y_test, y_pred))"
   ]
  },
  {
   "cell_type": "markdown",
   "id": "2958d09e",
   "metadata": {},
   "source": [
    "# Keras wrapper - No regularisation"
   ]
  },
  {
   "cell_type": "code",
   "execution_count": null,
   "id": "59b1b51e",
   "metadata": {},
   "outputs": [],
   "source": [
    "from scikeras.wrappers import KerasClassifier"
   ]
  },
  {
   "cell_type": "code",
   "execution_count": null,
   "id": "3759fcb1",
   "metadata": {},
   "outputs": [],
   "source": [
    "import tensorflow as tf\n",
    "from tensorflow import keras\n",
    "from tensorflow.keras import regularizers\n",
    "from tensorflow.keras.models import Sequential\n",
    "from tensorflow.keras.layers import Dense, Input\n",
    "from tensorflow.keras import regularizers\n",
    "\n",
    "def create_model(hidden_layers_sizes, lambda_reg, activation):\n",
    "    n_input_ = 17\n",
    "    model = Sequential()\n",
    "    model.add(Input(shape = (n_input_, )))\n",
    "    for hidden_layer_size in hidden_layers_sizes:\n",
    "        model.add(Dense(hidden_layer_size, activity_regularizer = regularizers.L2(lambda_reg), activation = activation))\n",
    "    model.add(Dense(1, activation = 'sigmoid'))\n",
    "    return model"
   ]
  },
  {
   "cell_type": "code",
   "execution_count": null,
   "id": "2548106a",
   "metadata": {},
   "outputs": [],
   "source": [
    "clf = KerasClassifier(\n",
    "    model=create_model,\n",
    "    optimizer = 'sgd',\n",
    "    activation = 'relu',\n",
    "    loss=\"binary_crossentropy\",\n",
    "    hidden_layers_sizes=(4,),\n",
    "    lambda_reg = 0,\n",
    "    optimizer__momentum = 0.5,\n",
    "    optimizer__learning_rate = 0.7,\n",
    "    epochs = 1000,\n",
    "    callbacks = tf.keras.callbacks.EarlyStopping,\n",
    "    callbacks__monitor=\"loss\",\n",
    "    callbacks__patience = 50,\n",
    "    callbacks__min_delta = 0.0001,\n",
    "    callbacks__restore_best_weights = True\n",
    ")"
   ]
  },
  {
   "cell_type": "code",
   "execution_count": null,
   "id": "768a66ac",
   "metadata": {},
   "outputs": [],
   "source": [
    "clf.get_params()"
   ]
  },
  {
   "cell_type": "code",
   "execution_count": null,
   "id": "27ed0c14",
   "metadata": {
    "scrolled": true
   },
   "outputs": [],
   "source": [
    "start = time.time()\n",
    "\n",
    "param_list = {\n",
    "    'hidden_layers_sizes': [(2,), (3,), (4,), (2,2)],\n",
    "    'optimizer': ['sgd'],\n",
    "    'optimizer__learning_rate': [0.0001, 0.001, 0.01] + [x/10 for x in range(1, 11)],\n",
    "    'optimizer__momentum': [0, 0.01] + [x/10 for x  in range(1, 10)],\n",
    "    'epochs': [1000],\n",
    "    'lambda_reg': [0],    \n",
    "    'shuffle': [True],\n",
    "    'loss': ['binary_crossentropy']\n",
    "}\n",
    "\n",
    "grid_search = GridSearchCV(estimator = clf, param_grid = param_list,\n",
    "                           n_jobs = -1, verbose = 5, scoring='accuracy', refit = True,\n",
    "                           cv = KFold(n_splits = 5, shuffle = True, random_state = 32))\n",
    "\n",
    "grid_search.fit(x_train, y_train)\n",
    "res = grid_search.cv_results_\n",
    "\n",
    "duration = time.time() - start \n",
    "print(f'Executed in {duration // 3600:.0f} hours {(duration % 3600)//60:.0f} minutes {duration % 60:.6f} seconds.')"
   ]
  },
  {
   "cell_type": "code",
   "execution_count": null,
   "id": "10695621",
   "metadata": {
    "scrolled": true
   },
   "outputs": [],
   "source": [
    "report(res, n_top = 5)"
   ]
  },
  {
   "cell_type": "code",
   "execution_count": null,
   "id": "db55b88e",
   "metadata": {},
   "outputs": [],
   "source": [
    "grid_search.best_estimator_.get_params()"
   ]
  },
  {
   "cell_type": "code",
   "execution_count": null,
   "id": "230bec75",
   "metadata": {},
   "outputs": [],
   "source": [
    "y_pred = grid_search.predict(x_train)\n",
    "print('Accuracy %s' % accuracy_score(y_train, y_pred))\n",
    "print(classification_report(y_train, y_pred))"
   ]
  },
  {
   "cell_type": "code",
   "execution_count": null,
   "id": "51a878af",
   "metadata": {
    "scrolled": true
   },
   "outputs": [],
   "source": [
    "y_pred = grid_search.predict(x_test)\n",
    "print('Accuracy %s' % accuracy_score(y_test, y_pred))\n",
    "print(classification_report(y_test, y_pred))"
   ]
  },
  {
   "cell_type": "code",
   "execution_count": null,
   "id": "833c6d82",
   "metadata": {},
   "outputs": [],
   "source": [
    "history = grid_search.best_estimator_.history_\n",
    "\n",
    "# summarize history for loss\n",
    "plt.plot(history['loss'])\n",
    "plt.plot(history['val_loss'],linestyle=\"dashed\",color='red')\n",
    "plt.ylabel('MSE',fontsize=20)\n",
    "plt.xlabel('epoch',fontsize=4)\n",
    "plt.xlim(0,500)\n",
    "plt.legend(['training', 'test'], loc='upper right')\n",
    "plt.show()\n",
    "\n",
    "#summarize history for accuracy\n",
    "plt.plot(history['binary_accuracy'])\n",
    "plt.plot(history['val_binary_accuracy'])\n",
    "plt.ylabel('Accuracy',fontsize=15)\n",
    "plt.xlabel('Epoch',fontsize=15)\n",
    "plt.xlim(0,500)\n",
    "plt.xticks(fontsize=14)\n",
    "plt.yticks(fontsize=14)\n",
    "plt.legend(['TRAINING', 'TEST'], loc='lower right')\n",
    "plt.savefig(\"Acc_monks3\")\n",
    "plt.show()"
   ]
  },
  {
   "cell_type": "markdown",
   "id": "89da93c5",
   "metadata": {},
   "source": [
    "# Keras wrapper - With regularisation"
   ]
  },
  {
   "cell_type": "code",
   "execution_count": null,
   "id": "870e9290",
   "metadata": {},
   "outputs": [],
   "source": [
    "from scikeras.wrappers import KerasClassifier"
   ]
  },
  {
   "cell_type": "code",
   "execution_count": null,
   "id": "326fd053",
   "metadata": {},
   "outputs": [],
   "source": [
    "import tensorflow as tf\n",
    "from tensorflow import keras\n",
    "from tensorflow.keras import regularizers\n",
    "from tensorflow.keras.models import Sequential\n",
    "from tensorflow.keras.layers import Dense, Input\n",
    "from tensorflow.keras import regularizers\n",
    "\n",
    "def create_model(hidden_layers_sizes, lambda_reg, activation):\n",
    "    n_input_ = 17\n",
    "    model = Sequential()\n",
    "    model.add(Input(shape = (n_input_, )))\n",
    "    for hidden_layer_size in hidden_layers_sizes:\n",
    "        model.add(Dense(hidden_layer_size, activity_regularizer = regularizers.L2(lambda_reg), activation = activation))\n",
    "    model.add(Dense(1, activation = 'sigmoid'))\n",
    "    return model"
   ]
  },
  {
   "cell_type": "code",
   "execution_count": null,
   "id": "a47a5ad8",
   "metadata": {},
   "outputs": [],
   "source": [
    "clf = KerasClassifier(\n",
    "    model=create_model,\n",
    "    optimizer = 'sgd',\n",
    "    activation = 'relu',\n",
    "    loss=\"binary_crossentropy\",\n",
    "    hidden_layers_sizes=(4,),\n",
    "    lambda_reg = 0,\n",
    "    optimizer__momentum = 0.5,\n",
    "    optimizer__learning_rate = 0.7,\n",
    "    epochs = 1000,\n",
    "    callbacks = tf.keras.callbacks.EarlyStopping,\n",
    "    callbacks__monitor=\"loss\",\n",
    "    callbacks__patience = 50,\n",
    "    callbacks__min_delta = 0.0001,\n",
    "    callbacks__restore_best_weights = True\n",
    ")"
   ]
  },
  {
   "cell_type": "code",
   "execution_count": null,
   "id": "f9f8d5d7",
   "metadata": {},
   "outputs": [],
   "source": [
    "clf.get_params()"
   ]
  },
  {
   "cell_type": "code",
   "execution_count": null,
   "id": "35df9f45",
   "metadata": {
    "scrolled": true
   },
   "outputs": [],
   "source": [
    "start = time.time()\n",
    "\n",
    "param_list = {\n",
    "    'hidden_layers_sizes': [(2,), (3,), (4,), (2,2)],\n",
    "    'optimizer': ['sgd'],\n",
    "    'optimizer__learning_rate': [0.0001, 0.001, 0.01] + [x/10 for x in range(1, 11)],\n",
    "    'optimizer__momentum': [0, 0.01] + [x/10 for x  in range(1, 10)],\n",
    "    'epochs': [1000],\n",
    "    'lambda_reg': [0.0001, 0.001, 0.01] + [x/10 for x in range(1, 10)],    \n",
    "    'shuffle': [True],\n",
    "    'loss': ['binary_crossentropy']\n",
    "}\n",
    "\n",
    "grid_search = GridSearchCV(estimator = clf, param_grid = param_list,\n",
    "                           n_jobs = -1, verbose = 5, scoring='accuracy', refit = True,\n",
    "                           cv = KFold(n_splits = 5, shuffle = True, random_state = 32))\n",
    "\n",
    "grid_search.fit(x_train, y_train)\n",
    "res = grid_search.cv_results_\n",
    "\n",
    "duration = time.time() - start \n",
    "print(f'Executed in {duration // 3600:.0f} hours {(duration % 3600)//60:.0f} minutes {duration % 60:.6f} seconds.')"
   ]
  },
  {
   "cell_type": "code",
   "execution_count": null,
   "id": "55f3da95",
   "metadata": {
    "scrolled": true
   },
   "outputs": [],
   "source": [
    "report(res, n_top = 5)"
   ]
  },
  {
   "cell_type": "code",
   "execution_count": null,
   "id": "81ceba0d",
   "metadata": {},
   "outputs": [],
   "source": [
    "grid_search.best_estimator_.get_params()"
   ]
  },
  {
   "cell_type": "code",
   "execution_count": null,
   "id": "b97e8723",
   "metadata": {},
   "outputs": [],
   "source": [
    "y_pred = grid_search.predict(x_train)\n",
    "print('Accuracy %s' % accuracy_score(y_train, y_pred))\n",
    "print(classification_report(y_train, y_pred))"
   ]
  },
  {
   "cell_type": "code",
   "execution_count": null,
   "id": "bf1ce25a",
   "metadata": {
    "scrolled": true
   },
   "outputs": [],
   "source": [
    "y_pred = grid_search.predict(x_test)\n",
    "print('Accuracy %s' % accuracy_score(y_test, y_pred))\n",
    "print(classification_report(y_test, y_pred))"
   ]
  },
  {
   "cell_type": "code",
   "execution_count": null,
   "id": "5b54381a",
   "metadata": {},
   "outputs": [],
   "source": [
    "history = grid_search.best_estimator_.history_\n",
    "\n",
    "# summarize history for loss\n",
    "plt.plot(history['loss'])\n",
    "plt.plot(history['val_loss'],linestyle=\"dashed\",color='red')\n",
    "plt.ylabel('MSE',fontsize=20)\n",
    "plt.xlabel('epoch',fontsize=4)\n",
    "plt.xlim(0,500)\n",
    "plt.legend(['training', 'test'], loc='upper right')\n",
    "plt.show()\n",
    "\n",
    "#summarize history for accuracy\n",
    "plt.plot(history['binary_accuracy'])\n",
    "plt.plot(history['val_binary_accuracy'])\n",
    "plt.ylabel('Accuracy',fontsize=15)\n",
    "plt.xlabel('Epoch',fontsize=15)\n",
    "plt.xlim(0,500)\n",
    "plt.xticks(fontsize=14)\n",
    "plt.yticks(fontsize=14)\n",
    "plt.legend(['TRAINING', 'TEST'], loc='lower right')\n",
    "plt.savefig(\"Acc_monks3reg\")\n",
    "plt.show()"
   ]
  }
 ],
 "metadata": {
  "kernelspec": {
   "display_name": "Python 3 (ipykernel)",
   "language": "python",
   "name": "python3"
  },
  "language_info": {
   "codemirror_mode": {
    "name": "ipython",
    "version": 3
   },
   "file_extension": ".py",
   "mimetype": "text/x-python",
   "name": "python",
   "nbconvert_exporter": "python",
   "pygments_lexer": "ipython3",
   "version": "3.9.12"
  },
  "vscode": {
   "interpreter": {
    "hash": "eaff728df3f89bc36d002a5cb650eac5e10d182ec525e6228ba5c8e0201b234f"
   }
  }
 },
 "nbformat": 4,
 "nbformat_minor": 5
}
