{
 "cells": [
  {
   "cell_type": "markdown",
   "id": "82f189ed",
   "metadata": {},
   "source": [
    "# Monks 2"
   ]
  },
  {
   "cell_type": "code",
   "execution_count": null,
   "id": "fc174e19",
   "metadata": {},
   "outputs": [],
   "source": [
    "# Importing libraries\n",
    "import time\n",
    "import pandas as pd\n",
    "import numpy as np\n",
    "import matplotlib.pyplot as plt\n",
    "from sklearn.preprocessing import OneHotEncoder, LabelEncoder\n",
    "from sklearn.model_selection import GridSearchCV, KFold\n",
    "from sklearn.metrics import accuracy_score, classification_report"
   ]
  },
  {
   "cell_type": "code",
   "execution_count": null,
   "id": "50d05a7d",
   "metadata": {},
   "outputs": [],
   "source": [
    "def report(results, n_top=5):\n",
    "    for i in range(1, n_top + 1):\n",
    "        candidates = np.flatnonzero(results['rank_test_score'] == i)\n",
    "        for candidate in candidates:\n",
    "            print(\"Model with rank: {0}\".format(i))\n",
    "            print(\"Mean validation score: {0:.4f} (std: {1:.4f})\".format(\n",
    "                results['mean_test_score'][candidate],\n",
    "                results['std_test_score'][candidate]))\n",
    "            print(\"Parameters: {0}\".format(results['params'][candidate]))\n",
    "            print(\"\")"
   ]
  },
  {
   "cell_type": "code",
   "execution_count": null,
   "id": "709d22e7",
   "metadata": {},
   "outputs": [],
   "source": [
    "# Define encoders\n",
    "encoder = OneHotEncoder()\n",
    "lencoder = LabelEncoder()"
   ]
  },
  {
   "cell_type": "code",
   "execution_count": null,
   "id": "0b7daa1d",
   "metadata": {},
   "outputs": [],
   "source": [
    "# Import data set\n",
    "feature_names = ['class', 'a1', 'a2', 'a3', 'a4', 'a5', 'a6', 'id']\n",
    "df = pd.read_csv('data/monks_2_train.txt', sep = ' ', header = None, names = feature_names, skipinitialspace = True)\n",
    "x_train = df.filter(['a1', 'a2', 'a3', 'a4', 'a5', 'a6'], axis = 1)\n",
    "y_train = df.filter(['class'], axis = 1)\n",
    "\n",
    "df_test = pd.read_csv('data/monks_2_test.txt', sep = ' ', header = None, names = feature_names, skipinitialspace = True)\n",
    "x_test = df_test.filter(['a1', 'a2', 'a3', 'a4', 'a5', 'a6'], axis = 1)\n",
    "y_test = df_test.filter(['class'], axis = 1)"
   ]
  },
  {
   "cell_type": "code",
   "execution_count": null,
   "id": "029b8121",
   "metadata": {},
   "outputs": [],
   "source": [
    "# Convert to np array\n",
    "x_train = x_train.to_numpy()\n",
    "y_train = y_train.to_numpy().squeeze()\n",
    "x_test = x_test.to_numpy()\n",
    "y_test = y_test.to_numpy().squeeze()"
   ]
  },
  {
   "cell_type": "code",
   "execution_count": null,
   "id": "3225e43e",
   "metadata": {},
   "outputs": [],
   "source": [
    "encoder.fit(x_train)\n",
    "x_train = encoder.transform(x_train).toarray().astype(int)\n",
    "x_test = encoder.transform(x_test).toarray().astype(int)"
   ]
  },
  {
   "cell_type": "markdown",
   "id": "3e1027fe",
   "metadata": {},
   "source": [
    "# Naive Bayes"
   ]
  },
  {
   "cell_type": "code",
   "execution_count": null,
   "id": "393524ca",
   "metadata": {},
   "outputs": [],
   "source": [
    "from sklearn.naive_bayes import CategoricalNB"
   ]
  },
  {
   "cell_type": "code",
   "execution_count": null,
   "id": "a9dc075e",
   "metadata": {},
   "outputs": [],
   "source": [
    "clf = CategoricalNB()"
   ]
  },
  {
   "cell_type": "code",
   "execution_count": null,
   "id": "b8a8d275",
   "metadata": {},
   "outputs": [],
   "source": [
    "start = time.time()\n",
    "\n",
    "param_list = {\n",
    "    'alpha': [x/10 for x in range(1, 10001)]\n",
    "\n",
    "}\n",
    "grid_search = GridSearchCV(estimator = clf, param_grid = param_list,\n",
    "                           n_jobs = -1, verbose = 5, scoring='accuracy', refit = True,\n",
    "                           cv = KFold(n_splits = 5, shuffle = True, random_state = 32))\n",
    "\n",
    "grid_search.fit(x_train, y_train)\n",
    "res = grid_search.cv_results_\n",
    "\n",
    "duration = time.time() - start \n",
    "print(f'Executed in {duration // 3600:.0f} hours {(duration % 3600)//60:.0f} minutes {duration % 60:.6f} seconds.')"
   ]
  },
  {
   "cell_type": "code",
   "execution_count": null,
   "id": "a3af2b0f",
   "metadata": {
    "scrolled": true
   },
   "outputs": [],
   "source": [
    "report(res, n_top = 5)"
   ]
  },
  {
   "cell_type": "code",
   "execution_count": null,
   "id": "f6fcd6dd",
   "metadata": {},
   "outputs": [],
   "source": [
    "grid_search.best_estimator_.get_params()"
   ]
  },
  {
   "cell_type": "code",
   "execution_count": null,
   "id": "c08fed09",
   "metadata": {},
   "outputs": [],
   "source": [
    "y_pred = grid_search.predict(x_train)\n",
    "print('Accuracy %s' % accuracy_score(y_train, y_pred))\n",
    "print(classification_report(y_train, y_pred))"
   ]
  },
  {
   "cell_type": "code",
   "execution_count": null,
   "id": "2b8dbb85",
   "metadata": {
    "scrolled": true
   },
   "outputs": [],
   "source": [
    "y_pred = grid_search.predict(x_test)\n",
    "print('Accuracy %s' % accuracy_score(y_test, y_pred))\n",
    "print(classification_report(y_test, y_pred))"
   ]
  },
  {
   "cell_type": "markdown",
   "id": "aaef9436",
   "metadata": {},
   "source": [
    "# KNN (Sci-Kit Learn)"
   ]
  },
  {
   "cell_type": "code",
   "execution_count": null,
   "id": "e1d35140",
   "metadata": {},
   "outputs": [],
   "source": [
    "from sklearn.neighbors import KNeighborsClassifier"
   ]
  },
  {
   "cell_type": "code",
   "execution_count": null,
   "id": "3624f771",
   "metadata": {
    "scrolled": true
   },
   "outputs": [],
   "source": [
    "clf = KNeighborsClassifier()"
   ]
  },
  {
   "cell_type": "code",
   "execution_count": null,
   "id": "7b38094f",
   "metadata": {},
   "outputs": [],
   "source": [
    "start = time.time()\n",
    "\n",
    "param_list = {'n_neighbors': [x for x in range(1, 81)],\n",
    "              'weights': ['uniform', 'distance'],\n",
    "              'p': [1, 2]\n",
    "}\n",
    "\n",
    "grid_search = GridSearchCV(estimator = clf, param_grid = param_list,\n",
    "                           n_jobs = -1, verbose = 5, scoring='accuracy', refit = True,\n",
    "                           cv = KFold(n_splits = 5, shuffle = True, random_state = 32))\n",
    "\n",
    "grid_search.fit(x_train, y_train)\n",
    "res = grid_search.cv_results_\n",
    "\n",
    "duration = time.time() - start \n",
    "print(f'Executed in {duration // 3600:.0f} hours {(duration % 3600)//60:.0f} minutes {duration % 60:.6f} seconds.')"
   ]
  },
  {
   "cell_type": "code",
   "execution_count": null,
   "id": "409d526c",
   "metadata": {},
   "outputs": [],
   "source": [
    "report(res, n_top = 5)"
   ]
  },
  {
   "cell_type": "code",
   "execution_count": null,
   "id": "9a861b83",
   "metadata": {},
   "outputs": [],
   "source": [
    "grid_search.best_estimator_.get_params()"
   ]
  },
  {
   "cell_type": "code",
   "execution_count": null,
   "id": "65f9d1a8",
   "metadata": {},
   "outputs": [],
   "source": [
    "y_pred = grid_search.predict(x_train)\n",
    "print('Accuracy %s' % accuracy_score(y_train, y_pred))\n",
    "print(classification_report(y_train, y_pred))"
   ]
  },
  {
   "cell_type": "code",
   "execution_count": null,
   "id": "01279e14",
   "metadata": {
    "scrolled": true
   },
   "outputs": [],
   "source": [
    "y_pred = grid_search.predict(x_test)\n",
    "print('Accuracy %s' % accuracy_score(y_test, y_pred))\n",
    "print(classification_report(y_test, y_pred))"
   ]
  },
  {
   "cell_type": "markdown",
   "id": "86648add",
   "metadata": {},
   "source": [
    "# SVM (Sci-Kit Learn)"
   ]
  },
  {
   "cell_type": "code",
   "execution_count": null,
   "id": "a94a847d",
   "metadata": {},
   "outputs": [],
   "source": [
    "from sklearn.svm import SVC"
   ]
  },
  {
   "cell_type": "code",
   "execution_count": null,
   "id": "c87253d9",
   "metadata": {
    "scrolled": true
   },
   "outputs": [],
   "source": [
    "clf = SVC()"
   ]
  },
  {
   "cell_type": "code",
   "execution_count": null,
   "id": "225df03c",
   "metadata": {},
   "outputs": [],
   "source": [
    "start = time.time()\n",
    "\n",
    "param_list = {'C': [x for x in range(1, 101)],\n",
    "              'kernel': ['linear', 'poly', 'rbf', 'sigmoid'],\n",
    "              'gamma': ['auto', 'scale'],\n",
    "              'degree': [x for x in range(1, 11)]\n",
    "}\n",
    "grid_search = GridSearchCV(estimator = clf, param_grid = param_list,\n",
    "                           n_jobs = -1, verbose = 2, scoring='accuracy', refit = True,\n",
    "                           cv = KFold(n_splits = 5, shuffle = True, random_state = 32))\n",
    "\n",
    "grid_search.fit(x_train, y_train)\n",
    "res = grid_search.cv_results_\n",
    "\n",
    "duration = time.time() - start \n",
    "print(f'Executed in {duration // 3600:.0f} hours {(duration % 3600)//60:.0f} minutes {duration % 60:.6f} seconds.')"
   ]
  },
  {
   "cell_type": "code",
   "execution_count": null,
   "id": "e00dfcd6",
   "metadata": {},
   "outputs": [],
   "source": [
    "report(res, n_top = 5)"
   ]
  },
  {
   "cell_type": "code",
   "execution_count": null,
   "id": "7f066240",
   "metadata": {},
   "outputs": [],
   "source": [
    "grid_search.best_estimator_.get_params()"
   ]
  },
  {
   "cell_type": "code",
   "execution_count": null,
   "id": "b7cd5482",
   "metadata": {},
   "outputs": [],
   "source": [
    "y_pred = grid_search.predict(x_train)\n",
    "print('Accuracy %s' % accuracy_score(y_train, y_pred))\n",
    "print(classification_report(y_train, y_pred))"
   ]
  },
  {
   "cell_type": "code",
   "execution_count": null,
   "id": "90626e94",
   "metadata": {
    "scrolled": true
   },
   "outputs": [],
   "source": [
    "y_pred = grid_search.predict(x_test)\n",
    "print('Accuracy %s' % accuracy_score(y_test, y_pred))\n",
    "print(classification_report(y_test, y_pred))"
   ]
  },
  {
   "cell_type": "markdown",
   "id": "ab0ece13",
   "metadata": {},
   "source": [
    "# Random Forest (Sci-Kit Learn)"
   ]
  },
  {
   "cell_type": "code",
   "execution_count": null,
   "id": "bdb0ee8d",
   "metadata": {},
   "outputs": [],
   "source": [
    "from sklearn.ensemble import RandomForestClassifier"
   ]
  },
  {
   "cell_type": "code",
   "execution_count": null,
   "id": "f4f52405",
   "metadata": {
    "scrolled": true
   },
   "outputs": [],
   "source": [
    "clf = RandomForestClassifier()"
   ]
  },
  {
   "cell_type": "code",
   "execution_count": null,
   "id": "9aef9424",
   "metadata": {},
   "outputs": [],
   "source": [
    "clf.get_params()"
   ]
  },
  {
   "cell_type": "code",
   "execution_count": null,
   "id": "09771254",
   "metadata": {},
   "outputs": [],
   "source": [
    "start = time.time()\n",
    "\n",
    "param_list = {\n",
    "    'n_estimators': [100, 200, 500],\n",
    "    'max_depth': [None] + [x for x in range(1, 21)],\n",
    "    'min_samples_leaf': [x for x in range(1, 21)],\n",
    "    'criterion': ['gini', 'entropy']\n",
    "}\n",
    "\n",
    "grid_search = GridSearchCV(estimator = clf, param_grid = param_list,\n",
    "                           n_jobs = -1, verbose = 2, scoring='accuracy', refit = True,\n",
    "                           cv = KFold(n_splits = 5, shuffle = True, random_state = 32))\n",
    "\n",
    "grid_search.fit(x_train, y_train)\n",
    "res = grid_search.cv_results_\n",
    "\n",
    "duration = time.time() - start \n",
    "print(f'Executed in {duration // 3600:.0f} hours {(duration % 3600)//60:.0f} minutes {duration % 60:.6f} seconds.')"
   ]
  },
  {
   "cell_type": "code",
   "execution_count": null,
   "id": "f20a6fd5",
   "metadata": {
    "scrolled": true
   },
   "outputs": [],
   "source": [
    "report(res, n_top = 5)"
   ]
  },
  {
   "cell_type": "code",
   "execution_count": null,
   "id": "4b9fa8ad",
   "metadata": {
    "scrolled": true
   },
   "outputs": [],
   "source": [
    "grid_search.best_estimator_.get_params()"
   ]
  },
  {
   "cell_type": "code",
   "execution_count": null,
   "id": "d9c3ec94",
   "metadata": {},
   "outputs": [],
   "source": [
    "y_pred = grid_search.predict(x_train)\n",
    "print(classification_report(y_train, y_pred))"
   ]
  },
  {
   "cell_type": "code",
   "execution_count": null,
   "id": "a77f3adf",
   "metadata": {
    "scrolled": true
   },
   "outputs": [],
   "source": [
    "y_pred = grid_search.predict(x_test)\n",
    "print(classification_report(y_test, y_pred))"
   ]
  },
  {
   "cell_type": "markdown",
   "id": "a41a3144",
   "metadata": {},
   "source": [
    "# Multilayer Perceptron (Sci-Kit Learn)"
   ]
  },
  {
   "cell_type": "code",
   "execution_count": null,
   "id": "1567e02d",
   "metadata": {},
   "outputs": [],
   "source": [
    "from sklearn.neural_network import MLPClassifier"
   ]
  },
  {
   "cell_type": "code",
   "execution_count": null,
   "id": "803b1862",
   "metadata": {
    "scrolled": true
   },
   "outputs": [],
   "source": [
    "clf = MLPClassifier()"
   ]
  },
  {
   "cell_type": "code",
   "execution_count": null,
   "id": "8c13f020",
   "metadata": {},
   "outputs": [],
   "source": [
    "start = time.time()\n",
    "\n",
    "param_list = {'hidden_layer_sizes': [(2,), (3,), (4,), (2, 2)],\n",
    "              'solver': ['sgd'],\n",
    "              'activation': ['relu'],\n",
    "              'learning_rate_init': [0.0001, 0.001, 0.01] + [x/10 for x in range(1, 11)], # eta in our notation\n",
    "              'momentum': [0, 0.01] + [x/10 for x  in range(1, 10)], # alpha in our notation\n",
    "              'nesterovs_momentum': [False],\n",
    "              'max_iter': [10000],\n",
    "              'n_iter_no_change': [200],\n",
    "              'alpha': [0], # L2 regularisation / lambda in our notation\n",
    "              'shuffle': [True]\n",
    "}\n",
    "\n",
    "grid_search = GridSearchCV(estimator = clf, param_grid = param_list,\n",
    "                           n_jobs = -1, verbose = 5, scoring='accuracy', refit = True,\n",
    "                           cv = KFold(n_splits = 5, shuffle = True, random_state = 32))\n",
    "\n",
    "grid_search.fit(x_train, y_train)\n",
    "res = grid_search.cv_results_\n",
    "\n",
    "duration = time.time() - start \n",
    "print(f'Executed in {duration // 3600:.0f} hours {(duration % 3600)//60:.0f} minutes {duration % 60:.6f} seconds.')"
   ]
  },
  {
   "cell_type": "code",
   "execution_count": null,
   "id": "ad1e9289",
   "metadata": {
    "scrolled": true
   },
   "outputs": [],
   "source": [
    "report(res, n_top = 5)"
   ]
  },
  {
   "cell_type": "code",
   "execution_count": null,
   "id": "dea0fe55",
   "metadata": {},
   "outputs": [],
   "source": [
    "grid_search.best_estimator_.get_params()"
   ]
  },
  {
   "cell_type": "code",
   "execution_count": null,
   "id": "dfe323e8",
   "metadata": {},
   "outputs": [],
   "source": [
    "y_pred = grid_search.predict(x_train)\n",
    "print('Accuracy %s' % accuracy_score(y_train, y_pred))\n",
    "print(classification_report(y_train, y_pred))"
   ]
  },
  {
   "cell_type": "code",
   "execution_count": null,
   "id": "5a9474b2",
   "metadata": {},
   "outputs": [],
   "source": [
    "y_pred = grid_search.predict(x_test)\n",
    "print('Accuracy %s' % accuracy_score(y_test, y_pred))\n",
    "print(classification_report(y_test, y_pred))"
   ]
  },
  {
   "cell_type": "markdown",
   "id": "eb54a514",
   "metadata": {},
   "source": [
    "# Keras wrapper"
   ]
  },
  {
   "cell_type": "code",
   "execution_count": null,
   "id": "1966beac",
   "metadata": {},
   "outputs": [],
   "source": [
    "import tensorflow as tf"
   ]
  },
  {
   "cell_type": "code",
   "execution_count": null,
   "id": "de751b7b",
   "metadata": {},
   "outputs": [],
   "source": [
    "from scikeras.wrappers import KerasClassifier"
   ]
  },
  {
   "cell_type": "code",
   "execution_count": null,
   "id": "e392194c",
   "metadata": {},
   "outputs": [],
   "source": [
    "import tensorflow as tf\n",
    "from tensorflow import keras\n",
    "from tensorflow.keras import regularizers\n",
    "from tensorflow.keras.models import Sequential\n",
    "from tensorflow.keras.layers import Dense, Input\n",
    "from tensorflow.keras import regularizers\n",
    "\n",
    "def create_model(hidden_layers_sizes, lambda_reg, activation):\n",
    "    n_input_ = 17\n",
    "    model = Sequential()\n",
    "    model.add(Input(shape = (n_input_, )))\n",
    "    for hidden_layer_size in hidden_layers_sizes:\n",
    "        model.add(Dense(hidden_layer_size, activity_regularizer = regularizers.L2(lambda_reg), activation = activation))\n",
    "    model.add(Dense(1, activation = 'sigmoid'))\n",
    "    return model"
   ]
  },
  {
   "cell_type": "code",
   "execution_count": null,
   "id": "62a7f1b7",
   "metadata": {},
   "outputs": [],
   "source": [
    "clf = KerasClassifier(\n",
    "    model=create_model,\n",
    "    optimizer = 'sgd',\n",
    "    activation = 'relu',\n",
    "    loss = \"mean_squared_error\",\n",
    "    metrics = 'binary_accuracy',\n",
    "    validation_split = 0.1,\n",
    "    hidden_layers_sizes=(4,),\n",
    "    lambda_reg = 0,\n",
    "    optimizer__momentum = 0.5,\n",
    "    optimizer__learning_rate = 0.7,\n",
    "    epochs = 1000,\n",
    "    callbacks = tf.keras.callbacks.EarlyStopping,\n",
    "    callbacks__monitor=\"val_loss\",\n",
    "    callbacks__patience = 50,\n",
    "    callbacks__min_delta = 0.0001,\n",
    "    callbacks__restore_best_weights = True\n",
    ")"
   ]
  },
  {
   "cell_type": "code",
   "execution_count": null,
   "id": "7ae51a39",
   "metadata": {},
   "outputs": [],
   "source": [
    "clf.get_params()"
   ]
  },
  {
   "cell_type": "code",
   "execution_count": null,
   "id": "672effa0",
   "metadata": {
    "scrolled": true
   },
   "outputs": [],
   "source": [
    "start = time.time()\n",
    "\n",
    "param_list = {\n",
    "    'hidden_layers_sizes': [(2,), (3,), (4,), (2,2)],\n",
    "    'optimizer': ['sgd'],\n",
    "    'optimizer__learning_rate': [0.0001, 0.001, 0.01] + [x/10 for x in range(1, 11)],\n",
    "    'optimizer__momentum': [0, 0.01] + [x/10 for x in range(1, 10)],\n",
    "    'epochs': [1000],\n",
    "    'lambda_reg': [0],    \n",
    "    'shuffle': [True],\n",
    "    'loss': ['mean_squared_error']\n",
    "}\n",
    "\n",
    "grid_search = GridSearchCV(estimator = clf, param_grid = param_list,\n",
    "                           n_jobs = -1, verbose = 5, scoring='accuracy', refit = True,\n",
    "                           cv = KFold(n_splits = 5, shuffle = True, random_state = 32))\n",
    "\n",
    "grid_search.fit(x_train, y_train)\n",
    "res = grid_search.cv_results_\n",
    "\n",
    "duration = time.time() - start \n",
    "print(f'Executed in {duration // 3600:.0f} hours {(duration % 3600)//60:.0f} minutes {duration % 60:.6f} seconds.')"
   ]
  },
  {
   "cell_type": "code",
   "execution_count": null,
   "id": "870d5a70",
   "metadata": {
    "scrolled": true
   },
   "outputs": [],
   "source": [
    "report(res, n_top = 5)"
   ]
  },
  {
   "cell_type": "code",
   "execution_count": null,
   "id": "60fa7cfc",
   "metadata": {},
   "outputs": [],
   "source": [
    "grid_search.best_estimator_.get_params()"
   ]
  },
  {
   "cell_type": "code",
   "execution_count": null,
   "id": "8d883b89",
   "metadata": {},
   "outputs": [],
   "source": [
    "y_pred = grid_search.predict(x_train)\n",
    "print('Accuracy %s' % accuracy_score(y_train, y_pred))\n",
    "print(classification_report(y_train, y_pred))"
   ]
  },
  {
   "cell_type": "code",
   "execution_count": null,
   "id": "3ea26af0",
   "metadata": {},
   "outputs": [],
   "source": [
    "y_pred = grid_search.predict(x_test)\n",
    "print('Accuracy %s' % accuracy_score(y_test, y_pred))\n",
    "print(classification_report(y_test, y_pred))"
   ]
  },
  {
   "cell_type": "code",
   "execution_count": null,
   "id": "2f174097",
   "metadata": {},
   "outputs": [],
   "source": [
    "history = grid_search.best_estimator_.history_\n",
    "\n",
    "# summarize history for loss\n",
    "plt.plot(history['loss'])\n",
    "plt.plot(history['val_loss'],linestyle=\"dashed\",color='red')\n",
    "plt.ylabel('MSE',fontsize=20)\n",
    "plt.xlabel('epoch',fontsize=4)\n",
    "plt.xlim(0,500)\n",
    "plt.legend(['training', 'test'], loc='upper right')\n",
    "plt.show()\n",
    "\n",
    "#summarize history for accuracy\n",
    "plt.plot(history['binary_accuracy'])\n",
    "plt.plot(history['val_binary_accuracy'])\n",
    "plt.ylabel('Accuracy',fontsize=15)\n",
    "plt.xlabel('Epoch',fontsize=15)\n",
    "plt.xlim(0,500)\n",
    "plt.xticks(fontsize=14)\n",
    "plt.yticks(fontsize=14)\n",
    "plt.legend(['TRAINING', 'TEST'], loc='lower right')\n",
    "plt.savefig(\"Acc_monks2\")\n",
    "plt.show()"
   ]
  }
 ],
 "metadata": {
  "kernelspec": {
   "display_name": "Python 3 (ipykernel)",
   "language": "python",
   "name": "python3"
  },
  "language_info": {
   "codemirror_mode": {
    "name": "ipython",
    "version": 3
   },
   "file_extension": ".py",
   "mimetype": "text/x-python",
   "name": "python",
   "nbconvert_exporter": "python",
   "pygments_lexer": "ipython3",
   "version": "3.9.12"
  },
  "vscode": {
   "interpreter": {
    "hash": "eaff728df3f89bc36d002a5cb650eac5e10d182ec525e6228ba5c8e0201b234f"
   }
  }
 },
 "nbformat": 4,
 "nbformat_minor": 5
}
