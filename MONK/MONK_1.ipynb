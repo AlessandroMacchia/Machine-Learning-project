{
 "cells": [
  {
   "cell_type": "markdown",
   "id": "4bdcc6a6",
   "metadata": {},
   "source": [
    "# Monks 1"
   ]
  },
  {
   "cell_type": "code",
   "execution_count": 1,
   "id": "feea77ca",
   "metadata": {
    "execution": {
     "iopub.execute_input": "2023-01-22T16:57:31.978823Z",
     "iopub.status.busy": "2023-01-22T16:57:31.977935Z",
     "iopub.status.idle": "2023-01-22T16:57:33.489397Z",
     "shell.execute_reply": "2023-01-22T16:57:33.487424Z",
     "shell.execute_reply.started": "2023-01-22T16:57:31.978686Z"
    }
   },
   "outputs": [],
   "source": [
    "# Importing libraries\n",
    "import time\n",
    "import pandas as pd\n",
    "import numpy as np\n",
    "import matplotlib.pyplot as plt\n",
    "from sklearn.preprocessing import OneHotEncoder, LabelEncoder\n",
    "from sklearn.model_selection import GridSearchCV, KFold\n",
    "from sklearn.metrics import accuracy_score, classification_report"
   ]
  },
  {
   "cell_type": "markdown",
   "id": "c4e06548",
   "metadata": {},
   "source": [
    "**Defining useful function**"
   ]
  },
  {
   "cell_type": "code",
   "execution_count": null,
   "id": "b695fdb8",
   "metadata": {},
   "outputs": [],
   "source": [
    "def report(results, n_top=5):\n",
    "    for i in range(1, n_top + 1):\n",
    "        candidates = np.flatnonzero(results['rank_test_score'] == i)\n",
    "        for candidate in candidates:\n",
    "            print(\"Model with rank: {0}\".format(i))\n",
    "            print(\"Mean validation score: {0:.4f} (std: {1:.4f})\".format(\n",
    "                results['mean_test_score'][candidate],\n",
    "                results['std_test_score'][candidate]))\n",
    "            print(\"Parameters: {0}\".format(results['params'][candidate]))\n",
    "            print(\"\")"
   ]
  },
  {
   "cell_type": "markdown",
   "id": "fedcc2cb",
   "metadata": {},
   "source": [
    "**Preprocessing of our data.** \n",
    "* We load our data ('Monks-1') and we transform it through oneHot encoder."
   ]
  },
  {
   "cell_type": "code",
   "execution_count": null,
   "id": "61b82b18",
   "metadata": {},
   "outputs": [],
   "source": [
    "# Define encoders\n",
    "encoder = OneHotEncoder()\n",
    "lencoder = LabelEncoder()"
   ]
  },
  {
   "cell_type": "code",
   "execution_count": null,
   "id": "417ebf08",
   "metadata": {},
   "outputs": [],
   "source": [
    "# Import data set\n",
    "feature_names = ['class', 'a1', 'a2', 'a3', 'a4', 'a5', 'a6', 'id']\n",
    "df = pd.read_csv('data/monks_1_train.txt', sep = ' ', header = None, names = feature_names, skipinitialspace = True)\n",
    "x_train = df.filter(['a1', 'a2', 'a3', 'a4', 'a5', 'a6'], axis = 1)\n",
    "y_train = df.filter(['class'], axis = 1)\n",
    "\n",
    "df_test = pd.read_csv('data/monks_1_test.txt', sep = ' ', header = None, names = feature_names, skipinitialspace = True)\n",
    "x_test = df_test.filter(['a1', 'a2', 'a3', 'a4', 'a5', 'a6'], axis = 1)\n",
    "y_test = df_test.filter(['class'], axis = 1)"
   ]
  },
  {
   "cell_type": "code",
   "execution_count": null,
   "id": "fd1aa608",
   "metadata": {},
   "outputs": [],
   "source": [
    "# Convert to np array\n",
    "x_train = x_train.to_numpy()\n",
    "y_train = y_train.to_numpy().squeeze()\n",
    "x_test = x_test.to_numpy()\n",
    "y_test = y_test.to_numpy().squeeze()"
   ]
  },
  {
   "cell_type": "code",
   "execution_count": null,
   "id": "c2b1f2dd",
   "metadata": {},
   "outputs": [],
   "source": [
    "encoder.fit(x_train)\n",
    "x_train = encoder.transform(x_train).toarray().astype(int)\n",
    "x_test = encoder.transform(x_test).toarray().astype(int)"
   ]
  },
  {
   "cell_type": "markdown",
   "id": "e3ef3995",
   "metadata": {},
   "source": [
    "# Naive Bayes"
   ]
  },
  {
   "cell_type": "code",
   "execution_count": null,
   "id": "d66b34df",
   "metadata": {},
   "outputs": [],
   "source": [
    "from sklearn.naive_bayes import CategoricalNB"
   ]
  },
  {
   "cell_type": "code",
   "execution_count": null,
   "id": "8207d7ad",
   "metadata": {},
   "outputs": [],
   "source": [
    "clf = CategoricalNB()"
   ]
  },
  {
   "cell_type": "code",
   "execution_count": null,
   "id": "1b5f2046",
   "metadata": {},
   "outputs": [],
   "source": [
    "start = time.time()\n",
    "\n",
    "param_list = {\n",
    "    'alpha': [x/10 for x in range(1, 10001)]\n",
    "\n",
    "}\n",
    "grid_search = GridSearchCV(estimator = clf, param_grid = param_list,\n",
    "                           n_jobs = -1, verbose = 5, scoring='accuracy', refit = True,\n",
    "                           cv = KFold(n_splits = 5, shuffle = True, random_state = 32))\n",
    "\n",
    "grid_search.fit(x_train, y_train)\n",
    "res = grid_search.cv_results_\n",
    "\n",
    "duration = time.time() - start \n",
    "print(f'Executed in {duration // 3600:.0f} hours {(duration % 3600)//60:.0f} minutes {duration % 60:.6f} seconds.')"
   ]
  },
  {
   "cell_type": "code",
   "execution_count": null,
   "id": "999a0226",
   "metadata": {
    "scrolled": true
   },
   "outputs": [],
   "source": [
    "report(res, n_top = 5)"
   ]
  },
  {
   "cell_type": "code",
   "execution_count": null,
   "id": "371b5a26",
   "metadata": {},
   "outputs": [],
   "source": [
    "grid_search.best_estimator_.get_params()"
   ]
  },
  {
   "cell_type": "code",
   "execution_count": null,
   "id": "db12a724",
   "metadata": {},
   "outputs": [],
   "source": [
    "y_pred = grid_search.predict(x_train)\n",
    "print('Accuracy %s' % accuracy_score(y_train, y_pred))\n",
    "print(classification_report(y_train, y_pred))"
   ]
  },
  {
   "cell_type": "code",
   "execution_count": null,
   "id": "5b7c112c",
   "metadata": {
    "scrolled": true
   },
   "outputs": [],
   "source": [
    "y_pred = grid_search.predict(x_test)\n",
    "print('Accuracy %s' % accuracy_score(y_test, y_pred))\n",
    "print(classification_report(y_test, y_pred))"
   ]
  },
  {
   "cell_type": "markdown",
   "id": "6d20922f",
   "metadata": {},
   "source": [
    "# KNN (Sci-Kit Learn)"
   ]
  },
  {
   "cell_type": "code",
   "execution_count": null,
   "id": "789079d6",
   "metadata": {},
   "outputs": [],
   "source": [
    "from sklearn.neighbors import KNeighborsClassifier"
   ]
  },
  {
   "cell_type": "code",
   "execution_count": null,
   "id": "2254307e",
   "metadata": {
    "scrolled": true
   },
   "outputs": [],
   "source": [
    "clf = KNeighborsClassifier()"
   ]
  },
  {
   "cell_type": "code",
   "execution_count": null,
   "id": "45139ecf",
   "metadata": {},
   "outputs": [],
   "source": [
    "start = time.time()\n",
    "\n",
    "param_list = {'n_neighbors': [x for x in range(1, 81)],\n",
    "              'weights': ['uniform', 'distance'],\n",
    "              'p': [1, 2]\n",
    "}\n",
    "\n",
    "grid_search = GridSearchCV(estimator = clf, param_grid = param_list,\n",
    "                           n_jobs = -1, verbose = 5, scoring='accuracy', refit = True,\n",
    "                           cv = KFold(n_splits = 5, shuffle = True, random_state = 32))\n",
    "\n",
    "grid_search.fit(x_train, y_train)\n",
    "res = grid_search.cv_results_\n",
    "\n",
    "duration = time.time() - start \n",
    "print(f'Executed in {duration // 3600:.0f} hours {(duration % 3600)//60:.0f} minutes {duration % 60:.6f} seconds.')"
   ]
  },
  {
   "cell_type": "code",
   "execution_count": null,
   "id": "7c7b6f1e",
   "metadata": {},
   "outputs": [],
   "source": [
    "report(res, n_top = 5)"
   ]
  },
  {
   "cell_type": "code",
   "execution_count": null,
   "id": "2ab7b5fd",
   "metadata": {},
   "outputs": [],
   "source": [
    "grid_search.best_estimator_.get_params()"
   ]
  },
  {
   "cell_type": "code",
   "execution_count": null,
   "id": "945e8256",
   "metadata": {},
   "outputs": [],
   "source": [
    "y_pred = grid_search.predict(x_train)\n",
    "print('Accuracy %s' % accuracy_score(y_train, y_pred))\n",
    "print(classification_report(y_train, y_pred))"
   ]
  },
  {
   "cell_type": "code",
   "execution_count": null,
   "id": "a518c808",
   "metadata": {
    "scrolled": true
   },
   "outputs": [],
   "source": [
    "y_pred = grid_search.predict(x_test)\n",
    "print('Accuracy %s' % accuracy_score(y_test, y_pred))\n",
    "print(classification_report(y_test, y_pred))"
   ]
  },
  {
   "cell_type": "markdown",
   "id": "d5c4a308",
   "metadata": {},
   "source": [
    "# SVM (Sci-Kit Learn)"
   ]
  },
  {
   "cell_type": "code",
   "execution_count": null,
   "id": "f2b1fb27",
   "metadata": {},
   "outputs": [],
   "source": [
    "from sklearn.svm import SVC"
   ]
  },
  {
   "cell_type": "code",
   "execution_count": null,
   "id": "834296a1",
   "metadata": {
    "scrolled": true
   },
   "outputs": [],
   "source": [
    "clf = SVC()"
   ]
  },
  {
   "cell_type": "code",
   "execution_count": null,
   "id": "dd9bee44",
   "metadata": {},
   "outputs": [],
   "source": [
    "start = time.time()\n",
    "\n",
    "param_list = {'C': [x for x in range(1, 101)],\n",
    "              'kernel': ['linear', 'poly', 'rbf', 'sigmoid'],\n",
    "              'gamma': ['auto', 'scale'],\n",
    "              'degree': [x for x in range(1, 11)]\n",
    "}\n",
    "grid_search = GridSearchCV(estimator = clf, param_grid = param_list,\n",
    "                           n_jobs = -1, verbose = 2, scoring='accuracy', refit = True,\n",
    "                           cv = KFold(n_splits = 5, shuffle = True, random_state = 32))\n",
    "\n",
    "grid_search.fit(x_train, y_train)\n",
    "res = grid_search.cv_results_\n",
    "\n",
    "duration = time.time() - start \n",
    "print(f'Executed in {duration // 3600:.0f} hours {(duration % 3600)//60:.0f} minutes {duration % 60:.6f} seconds.')"
   ]
  },
  {
   "cell_type": "code",
   "execution_count": null,
   "id": "4bb6ad43",
   "metadata": {},
   "outputs": [],
   "source": [
    "report(res, n_top = 5)"
   ]
  },
  {
   "cell_type": "code",
   "execution_count": null,
   "id": "6668b78f",
   "metadata": {},
   "outputs": [],
   "source": [
    "grid_search.best_estimator_.get_params()"
   ]
  },
  {
   "cell_type": "code",
   "execution_count": null,
   "id": "d5c7fa98",
   "metadata": {},
   "outputs": [],
   "source": [
    "y_pred = grid_search.predict(x_train)\n",
    "print('Accuracy %s' % accuracy_score(y_train, y_pred))\n",
    "print(classification_report(y_train, y_pred))"
   ]
  },
  {
   "cell_type": "code",
   "execution_count": null,
   "id": "9abec608",
   "metadata": {
    "scrolled": true
   },
   "outputs": [],
   "source": [
    "y_pred = grid_search.predict(x_test)\n",
    "print('Accuracy %s' % accuracy_score(y_test, y_pred))\n",
    "print(classification_report(y_test, y_pred))"
   ]
  },
  {
   "cell_type": "markdown",
   "id": "5ba11f99",
   "metadata": {},
   "source": [
    "# Random Forest (Sci-Kit Learn)"
   ]
  },
  {
   "cell_type": "code",
   "execution_count": null,
   "id": "38899c1c",
   "metadata": {},
   "outputs": [],
   "source": [
    "from sklearn.ensemble import RandomForestClassifier"
   ]
  },
  {
   "cell_type": "code",
   "execution_count": null,
   "id": "a21beb95",
   "metadata": {
    "scrolled": true
   },
   "outputs": [],
   "source": [
    "clf = RandomForestClassifier()"
   ]
  },
  {
   "cell_type": "code",
   "execution_count": null,
   "id": "9a6cceeb",
   "metadata": {},
   "outputs": [],
   "source": [
    "start = time.time()\n",
    "\n",
    "param_list = {\n",
    "    'n_estimators': [100, 200, 500],\n",
    "    'max_depth': [None] + [x for x in range(1, 21)],\n",
    "    'min_samples_leaf': [x for x in range(1, 21)],\n",
    "    'criterion': ['gini', 'entropy']\n",
    "}\n",
    "\n",
    "grid_search = GridSearchCV(estimator = clf, param_grid = param_list,\n",
    "                           n_jobs = -1, verbose = 2, scoring='accuracy', refit = True,\n",
    "                           cv = KFold(n_splits = 5, shuffle = True, random_state = 32))\n",
    "\n",
    "grid_search.fit(x_train, y_train)\n",
    "res = grid_search.cv_results_\n",
    "\n",
    "duration = time.time() - start \n",
    "print(f'Executed in {duration // 3600:.0f} hours {(duration % 3600)//60:.0f} minutes {duration % 60:.6f} seconds.')"
   ]
  },
  {
   "cell_type": "code",
   "execution_count": null,
   "id": "ef394c05",
   "metadata": {
    "scrolled": true
   },
   "outputs": [],
   "source": [
    "report(res, n_top = 5)"
   ]
  },
  {
   "cell_type": "code",
   "execution_count": null,
   "id": "de14fc19",
   "metadata": {
    "scrolled": true
   },
   "outputs": [],
   "source": [
    "grid_search.best_estimator_.get_params()"
   ]
  },
  {
   "cell_type": "code",
   "execution_count": null,
   "id": "3b787b04",
   "metadata": {},
   "outputs": [],
   "source": [
    "y_pred = grid_search.predict(x_train)\n",
    "print(classification_report(y_train, y_pred))"
   ]
  },
  {
   "cell_type": "code",
   "execution_count": null,
   "id": "305c1e98",
   "metadata": {
    "scrolled": true
   },
   "outputs": [],
   "source": [
    "y_pred = grid_search.predict(x_test)\n",
    "print(classification_report(y_test, y_pred))"
   ]
  },
  {
   "cell_type": "markdown",
   "id": "207de37f",
   "metadata": {},
   "source": [
    "# Multilayer Perceptron (Sci-Kit Learn)"
   ]
  },
  {
   "cell_type": "code",
   "execution_count": null,
   "id": "7ca8acf8",
   "metadata": {},
   "outputs": [],
   "source": [
    "from sklearn.neural_network import MLPClassifier"
   ]
  },
  {
   "cell_type": "code",
   "execution_count": null,
   "id": "85b90c0f",
   "metadata": {
    "scrolled": true
   },
   "outputs": [],
   "source": [
    "clf = MLPClassifier()"
   ]
  },
  {
   "cell_type": "code",
   "execution_count": null,
   "id": "b1ee8aa5",
   "metadata": {},
   "outputs": [],
   "source": [
    "start = time.time()\n",
    "\n",
    "param_list = {'hidden_layer_sizes': [(2,), (3,), (4,), (2, 2)],\n",
    "              'solver': ['sgd'],\n",
    "              'activation': ['relu'],\n",
    "              'learning_rate_init': [0.0001, 0.001, 0.01] + [x/10 for x in range(1, 11)], # eta in our notation\n",
    "              'momentum': [0, 0.01] + [x/10 for x  in range(1, 10)], # alpha in our notation\n",
    "              'nesterovs_momentum': [False],\n",
    "              'max_iter': [10000],\n",
    "              'n_iter_no_change': [200],\n",
    "              'alpha': [0], # L2 regularisation / lambda in our notation\n",
    "              'shuffle': [True]\n",
    "}\n",
    "\n",
    "grid_search = GridSearchCV(estimator = clf, param_grid = param_list,\n",
    "                           n_jobs = -1, verbose = 5, scoring='accuracy', refit = True,\n",
    "                           cv = KFold(n_splits = 5, shuffle = True, random_state = 32))\n",
    "\n",
    "grid_search.fit(x_train, y_train)\n",
    "res = grid_search.cv_results_\n",
    "\n",
    "duration = time.time() - start \n",
    "print(f'Executed in {duration // 3600:.0f} hours {(duration % 3600)//60:.0f} minutes {duration % 60:.6f} seconds.')"
   ]
  },
  {
   "cell_type": "code",
   "execution_count": null,
   "id": "f68c428e",
   "metadata": {
    "scrolled": true
   },
   "outputs": [],
   "source": [
    "report(res, n_top = 5)"
   ]
  },
  {
   "cell_type": "code",
   "execution_count": null,
   "id": "302e7e47",
   "metadata": {},
   "outputs": [],
   "source": [
    "grid_search.best_estimator_.get_params()"
   ]
  },
  {
   "cell_type": "code",
   "execution_count": null,
   "id": "62f315dc",
   "metadata": {},
   "outputs": [],
   "source": [
    "y_pred = grid_search.predict(x_train)\n",
    "print('Accuracy %s' % accuracy_score(y_train, y_pred))\n",
    "print(classification_report(y_train, y_pred))"
   ]
  },
  {
   "cell_type": "code",
   "execution_count": null,
   "id": "e045e8a0",
   "metadata": {},
   "outputs": [],
   "source": [
    "y_pred = grid_search.predict(x_test)\n",
    "print('Accuracy %s' % accuracy_score(y_test, y_pred))\n",
    "print(classification_report(y_test, y_pred))"
   ]
  },
  {
   "cell_type": "markdown",
   "id": "c296a58e",
   "metadata": {},
   "source": [
    "# Keras wrapper"
   ]
  },
  {
   "cell_type": "code",
   "execution_count": null,
   "id": "0428317f",
   "metadata": {},
   "outputs": [],
   "source": [
    "from scikeras.wrappers import KerasClassifier"
   ]
  },
  {
   "cell_type": "code",
   "execution_count": null,
   "id": "5ba3683e",
   "metadata": {},
   "outputs": [],
   "source": [
    "import tensorflow as tf\n",
    "from tensorflow import keras\n",
    "from tensorflow.keras import regularizers\n",
    "from tensorflow.keras.models import Sequential\n",
    "from tensorflow.keras.layers import Dense, Input\n",
    "from tensorflow.keras import regularizers\n",
    "\n",
    "def create_model(hidden_layers_sizes, lambda_reg, activation):\n",
    "    n_input_ = 17\n",
    "    model = Sequential()\n",
    "    model.add(Input(shape = (n_input_, )))\n",
    "    for hidden_layer_size in hidden_layers_sizes:\n",
    "        model.add(Dense(hidden_layer_size, activity_regularizer = regularizers.L2(lambda_reg), activation = activation))\n",
    "    model.add(Dense(1, activation = 'sigmoid'))\n",
    "    return model"
   ]
  },
  {
   "cell_type": "code",
   "execution_count": null,
   "id": "bd422f62",
   "metadata": {},
   "outputs": [],
   "source": [
    "clf = KerasClassifier(\n",
    "    model=create_model,\n",
    "    optimizer = 'sgd',\n",
    "    activation = 'relu',\n",
    "    loss = \"mean_squared_error\",\n",
    "    metrics = 'binary_accuracy',grid_search.best_estimator_.\n",
    "    hidden_layers_sizes=(4,),\n",
    "    lambda_reg = 0,\n",
    "    optimizer__momentum = 0.5,\n",
    "    optimizer__learning_rate = 0.7,\n",
    "    epochs = 1000,\n",
    "    callbacks = tf.keras.callbacks.EarlyStopping,\n",
    "    callbacks__monitor=\"val_loss\",\n",
    "    callbacks__patience = 50,\n",
    "    callbacks__min_delta = 0.0001,\n",
    "    callbacks__restore_best_weights = True\n",
    ")"
   ]
  },
  {
   "cell_type": "code",
   "execution_count": null,
   "id": "0ad1a65c",
   "metadata": {},
   "outputs": [],
   "source": [
    "clf.get_params()"
   ]
  },
  {
   "cell_type": "code",
   "execution_count": null,
   "id": "8e3f2b45",
   "metadata": {
    "scrolled": true
   },
   "outputs": [],
   "source": [
    "start = time.time()\n",
    "\n",
    "param_list = {\n",
    "    'hidden_layers_sizes': [(2,), (3,), (4,), (2,2)],\n",
    "    'optimizer': ['sgd'],\n",
    "    'optimizer__learning_rate': [0.0001, 0.001, 0.01] + [x/10 for x in range(1, 11)],\n",
    "    'optimizer__momentum': [0, 0.01] + [x/10 for x  in range(1, 10)],\n",
    "    'epochs': [1000],\n",
    "    'lambda_reg': [0],    \n",
    "    'shuffle': [True],\n",
    "    'loss': ['mean_squared_error']\n",
    "}\n",
    "\n",
    "grid_search = GridSearchCV(estimator = clf, param_grid = param_list,\n",
    "                           n_jobs = -1, verbose = 5, scoring='accuracy', refit = True,\n",
    "                           cv = KFold(n_splits = 5, shuffle = True, random_state = 32))\n",
    "\n",
    "grid_search.fit(x_train, y_train)\n",
    "res = grid_search.cv_results_\n",
    "\n",
    "duration = time.time() - start \n",
    "print(f'Executed in {duration // 3600:.0f} hours {(duration % 3600)//60:.0f} minutes {duration % 60:.6f} seconds.')"
   ]
  },
  {
   "cell_type": "code",
   "execution_count": null,
   "id": "c1ee3e08",
   "metadata": {
    "scrolled": true
   },
   "outputs": [],
   "source": [
    "report(res, n_top = 5)"
   ]
  },
  {
   "cell_type": "code",
   "execution_count": null,
   "id": "f9830d72",
   "metadata": {},
   "outputs": [],
   "source": [
    "grid_search.best_estimator_.get_params()"
   ]
  },
  {
   "cell_type": "code",
   "execution_count": null,
   "id": "e51fd482",
   "metadata": {},
   "outputs": [],
   "source": [
    "y_pred = grid_search.predict(x_train)\n",
    "print('Accuracy %s' % accuracy_score(y_train, y_pred))\n",
    "print(classification_report(y_train, y_pred))"
   ]
  },
  {
   "cell_type": "code",
   "execution_count": null,
   "id": "54b662d0",
   "metadata": {},
   "outputs": [],
   "source": [
    "y_pred = grid_search.predict(x_test)\n",
    "print('Accuracy %s' % accuracy_score(y_test, y_pred))\n",
    "print(classification_report(y_test, y_pred))"
   ]
  },
  {
   "cell_type": "code",
   "execution_count": null,
   "id": "bfda28d7",
   "metadata": {},
   "outputs": [],
   "source": [
    "history = grid_search.best_estimator_.history_\n",
    "\n",
    "# summarize history for loss\n",
    "plt.plot(history['loss'])\n",
    "plt.plot(history['val_loss'],linestyle=\"dashed\",color='red')\n",
    "plt.ylabel('MSE',fontsize=20)\n",
    "plt.xlabel('epoch',fontsize=4)\n",
    "plt.xlim(0,500)\n",
    "plt.legend(['training', 'test'], loc='upper right')\n",
    "plt.show()\n",
    "\n",
    "#summarize history for accuracy\n",
    "plt.plot(history['binary_accuracy'])\n",
    "plt.plot(history['val_binary_accuracy'])\n",
    "plt.ylabel('Accuracy',fontsize=15)\n",
    "plt.xlabel('Epoch',fontsize=15)\n",
    "plt.xlim(0,500)\n",
    "plt.xticks(fontsize=14)\n",
    "plt.yticks(fontsize=14)\n",
    "plt.legend(['TRAINING', 'TEST'], loc='lower right')\n",
    "plt.savefig(\"Acc_monks1\")\n",
    "plt.show()"
   ]
  }
 ],
 "metadata": {
  "kernelspec": {
   "display_name": "Python 3 (ipykernel)",
   "language": "python",
   "name": "python3"
  },
  "language_info": {
   "codemirror_mode": {
    "name": "ipython",
    "version": 3
   },
   "file_extension": ".py",
   "mimetype": "text/x-python",
   "name": "python",
   "nbconvert_exporter": "python",
   "pygments_lexer": "ipython3",
   "version": "3.9.12"
  },
  "vscode": {
   "interpreter": {
    "hash": "eaff728df3f89bc36d002a5cb650eac5e10d182ec525e6228ba5c8e0201b234f"
   }
  }
 },
 "nbformat": 4,
 "nbformat_minor": 5
}
